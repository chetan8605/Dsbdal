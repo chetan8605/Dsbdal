{
 "cells": [
  {
   "cell_type": "code",
   "execution_count": 1,
   "id": "e161ad82",
   "metadata": {},
   "outputs": [],
   "source": [
    "# EXTRACTION OF TEXT"
   ]
  },
  {
   "cell_type": "code",
   "execution_count": 2,
   "id": "d13de8c1",
   "metadata": {},
   "outputs": [],
   "source": [
    "import pandas as pd\n",
    "import re\n",
    "import numpy as np"
   ]
  },
  {
   "cell_type": "code",
   "execution_count": 3,
   "id": "9918fdbc",
   "metadata": {},
   "outputs": [
    {
     "name": "stdout",
     "output_type": "stream",
     "text": [
      "Requirement already satisfied: nltk in c:\\users\\pict\\anaconda3\\lib\\site-packages (3.7)\n",
      "Requirement already satisfied: tqdm in c:\\users\\pict\\anaconda3\\lib\\site-packages (from nltk) (4.64.1)\n",
      "Requirement already satisfied: click in c:\\users\\pict\\anaconda3\\lib\\site-packages (from nltk) (8.0.4)\n",
      "Requirement already satisfied: regex>=2021.8.3 in c:\\users\\pict\\anaconda3\\lib\\site-packages (from nltk) (2022.7.9)\n",
      "Requirement already satisfied: joblib in c:\\users\\pict\\anaconda3\\lib\\site-packages (from nltk) (1.1.0)\n",
      "Requirement already satisfied: colorama in c:\\users\\pict\\anaconda3\\lib\\site-packages (from click->nltk) (0.4.5)\n",
      "Note: you may need to restart the kernel to use updated packages.\n"
     ]
    }
   ],
   "source": [
    "pip install nltk"
   ]
  },
  {
   "cell_type": "code",
   "execution_count": 4,
   "id": "caf7b732",
   "metadata": {},
   "outputs": [],
   "source": [
    "with open(\"Birds.txt\") as inp:\n",
    "    data = inp.readlines()"
   ]
  },
  {
   "cell_type": "code",
   "execution_count": 5,
   "id": "f567f300",
   "metadata": {},
   "outputs": [
    {
     "data": {
      "text/plain": [
       "['A History of the Birds of Europe, Including all the Species Inhabiting the Western Palearctic Region is a nine-volume ornithological book published in parts between 1871 and 1882. It was mainly written by Henry Eeles Dresser, although Richard Bowdler Sharpe co-authored the earlier volumes. It describes all the bird species reliably recorded in the wild in Europe and adjacent geographical areas with similar fauna, giving their worldwide distribution, variations in appearance and migratory movements.']"
      ]
     },
     "execution_count": 5,
     "metadata": {},
     "output_type": "execute_result"
    }
   ],
   "source": [
    "data"
   ]
  },
  {
   "cell_type": "code",
   "execution_count": 6,
   "id": "4dc155a4",
   "metadata": {},
   "outputs": [],
   "source": [
    "sentence = data[0]"
   ]
  },
  {
   "cell_type": "code",
   "execution_count": 7,
   "id": "ecfa75a9",
   "metadata": {},
   "outputs": [
    {
     "data": {
      "text/plain": [
       "'A History of the Birds of Europe, Including all the Species Inhabiting the Western Palearctic Region is a nine-volume ornithological book published in parts between 1871 and 1882. It was mainly written by Henry Eeles Dresser, although Richard Bowdler Sharpe co-authored the earlier volumes. It describes all the bird species reliably recorded in the wild in Europe and adjacent geographical areas with similar fauna, giving their worldwide distribution, variations in appearance and migratory movements.'"
      ]
     },
     "execution_count": 7,
     "metadata": {},
     "output_type": "execute_result"
    }
   ],
   "source": [
    "sentence"
   ]
  },
  {
   "cell_type": "code",
   "execution_count": 8,
   "id": "0fe96e92",
   "metadata": {},
   "outputs": [],
   "source": [
    "sentence = re.sub(\"[^0-9a-zA-Z]+\", \" \", sentence)"
   ]
  },
  {
   "cell_type": "code",
   "execution_count": 9,
   "id": "c0a5b2db",
   "metadata": {},
   "outputs": [
    {
     "data": {
      "text/plain": [
       "'A History of the Birds of Europe Including all the Species Inhabiting the Western Palearctic Region is a nine volume ornithological book published in parts between 1871 and 1882 It was mainly written by Henry Eeles Dresser although Richard Bowdler Sharpe co authored the earlier volumes It describes all the bird species reliably recorded in the wild in Europe and adjacent geographical areas with similar fauna giving their worldwide distribution variations in appearance and migratory movements '"
      ]
     },
     "execution_count": 9,
     "metadata": {},
     "output_type": "execute_result"
    }
   ],
   "source": [
    "sentence"
   ]
  },
  {
   "cell_type": "code",
   "execution_count": 10,
   "id": "d3cbda77",
   "metadata": {},
   "outputs": [],
   "source": [
    "# TOKENIZE"
   ]
  },
  {
   "cell_type": "code",
   "execution_count": 11,
   "id": "74adaa94",
   "metadata": {},
   "outputs": [
    {
     "name": "stdout",
     "output_type": "stream",
     "text": [
      "['A', 'History', 'of', 'the', 'Birds', 'of', 'Europe', 'Including', 'all', 'the', 'Species', 'Inhabiting', 'the', 'Western', 'Palearctic', 'Region', 'is', 'a', 'nine', 'volume', 'ornithological', 'book', 'published', 'in', 'parts', 'between', '1871', 'and', '1882', 'It', 'was', 'mainly', 'written', 'by', 'Henry', 'Eeles', 'Dresser', 'although', 'Richard', 'Bowdler', 'Sharpe', 'co', 'authored', 'the', 'earlier', 'volumes', 'It', 'describes', 'all', 'the', 'bird', 'species', 'reliably', 'recorded', 'in', 'the', 'wild', 'in', 'Europe', 'and', 'adjacent', 'geographical', 'areas', 'with', 'similar', 'fauna', 'giving', 'their', 'worldwide', 'distribution', 'variations', 'in', 'appearance', 'and', 'migratory', 'movements']\n"
     ]
    },
    {
     "name": "stderr",
     "output_type": "stream",
     "text": [
      "[nltk_data] Downloading package punkt to\n",
      "[nltk_data]     C:\\Users\\pict\\AppData\\Roaming\\nltk_data...\n",
      "[nltk_data]   Package punkt is already up-to-date!\n"
     ]
    }
   ],
   "source": [
    "import nltk\n",
    "nltk.download('punkt')\n",
    "\n",
    "from nltk.tokenize import word_tokenize\n",
    "\n",
    "tokenized_word = word_tokenize(sentence)\n",
    "print(tokenized_word)"
   ]
  },
  {
   "cell_type": "code",
   "execution_count": 12,
   "id": "545e1a6d",
   "metadata": {},
   "outputs": [],
   "source": [
    "# STEMMING"
   ]
  },
  {
   "cell_type": "code",
   "execution_count": 13,
   "id": "b40eece9",
   "metadata": {},
   "outputs": [],
   "source": [
    "from nltk.stem import PorterStemmer\n",
    "from nltk.stem.snowball import SnowballStemmer\n",
    "from nltk.stem import LancasterStemmer"
   ]
  },
  {
   "cell_type": "code",
   "execution_count": 14,
   "id": "db592025",
   "metadata": {},
   "outputs": [
    {
     "name": "stdout",
     "output_type": "stream",
     "text": [
      "['a', 'histori', 'of', 'the', 'bird', 'of', 'europ', 'includ', 'all', 'the', 'speci', 'inhabit', 'the', 'western', 'palearct', 'region', 'is', 'a', 'nine', 'volum', 'ornitholog', 'book', 'publish', 'in', 'part', 'between', '1871', 'and', '1882', 'it', 'wa', 'mainli', 'written', 'by', 'henri', 'eel', 'dresser', 'although', 'richard', 'bowdler', 'sharp', 'co', 'author', 'the', 'earlier', 'volum', 'it', 'describ', 'all', 'the', 'bird', 'speci', 'reliabl', 'record', 'in', 'the', 'wild', 'in', 'europ', 'and', 'adjac', 'geograph', 'area', 'with', 'similar', 'fauna', 'give', 'their', 'worldwid', 'distribut', 'variat', 'in', 'appear', 'and', 'migratori', 'movement']\n"
     ]
    }
   ],
   "source": [
    "stem=[]\n",
    "for i in tokenized_word:\n",
    "  ps = PorterStemmer()\n",
    "  stem_word= ps.stem(i)\n",
    "  stem.append(stem_word)\n",
    "print(stem)"
   ]
  },
  {
   "cell_type": "code",
   "execution_count": 15,
   "id": "80a83791",
   "metadata": {},
   "outputs": [],
   "source": [
    "# LEMMATIZATION"
   ]
  },
  {
   "cell_type": "code",
   "execution_count": 16,
   "id": "12d76c4b",
   "metadata": {},
   "outputs": [
    {
     "name": "stderr",
     "output_type": "stream",
     "text": [
      "[nltk_data] Downloading package omw-1.4 to\n",
      "[nltk_data]     C:\\Users\\pict\\AppData\\Roaming\\nltk_data...\n",
      "[nltk_data]   Package omw-1.4 is already up-to-date!\n"
     ]
    }
   ],
   "source": [
    "import nltk\n",
    "nltk.download('omw-1.4')\n",
    "from nltk.stem import WordNetLemmatizer \n",
    "lemmatizer = WordNetLemmatizer()"
   ]
  },
  {
   "cell_type": "code",
   "execution_count": 17,
   "id": "965a51ea",
   "metadata": {},
   "outputs": [
    {
     "name": "stderr",
     "output_type": "stream",
     "text": [
      "[nltk_data] Downloading package wordnet to\n",
      "[nltk_data]     C:\\Users\\pict\\AppData\\Roaming\\nltk_data...\n",
      "[nltk_data]   Package wordnet is already up-to-date!\n"
     ]
    },
    {
     "name": "stdout",
     "output_type": "stream",
     "text": [
      "a histori of the bird of europ includ all the speci inhabit the western palearct region is a nine volum ornitholog book publish in part between 1871 and 1882 it wa mainli written by henri eel dresser although richard bowdler sharp co author the earlier volum it describ all the bird speci reliabl record in the wild in europ and adjac geograph area with similar fauna give their worldwid distribut variat in appear and migratori movement\n"
     ]
    }
   ],
   "source": [
    "import nltk\n",
    "nltk.download('wordnet')\n",
    "\n",
    "lemmatized_output = ' '.join([lemmatizer.lemmatize(w) for w in stem])\n",
    "print(lemmatized_output)"
   ]
  },
  {
   "cell_type": "code",
   "execution_count": 18,
   "id": "8680fd58",
   "metadata": {},
   "outputs": [
    {
     "name": "stdout",
     "output_type": "stream",
     "text": [
      "['a', 'histori', 'of', 'the', 'bird', 'of', 'europ', 'includ', 'all', 'the', 'speci', 'inhabit', 'the', 'western', 'palearct', 'region', 'is', 'a', 'nine', 'volum', 'ornitholog', 'book', 'publish', 'in', 'part', 'between', '1871', 'and', '1882', 'it', 'wa', 'mainli', 'written', 'by', 'henri', 'eel', 'dresser', 'although', 'richard', 'bowdler', 'sharp', 'co', 'author', 'the', 'earlier', 'volum', 'it', 'describ', 'all', 'the', 'bird', 'speci', 'reliabl', 'record', 'in', 'the', 'wild', 'in', 'europ', 'and', 'adjac', 'geograph', 'area', 'with', 'similar', 'fauna', 'give', 'their', 'worldwid', 'distribut', 'variat', 'in', 'appear', 'and', 'migratori', 'movement']\n"
     ]
    }
   ],
   "source": [
    "leme=[]\n",
    "for i in stem:\n",
    "  lemetized_word=lemmatizer.lemmatize(i)\n",
    "  leme.append(lemetized_word)\n",
    "print(leme)"
   ]
  },
  {
   "cell_type": "code",
   "execution_count": 19,
   "id": "81903a51",
   "metadata": {},
   "outputs": [],
   "source": [
    "# Part of Speech Tagging"
   ]
  },
  {
   "cell_type": "code",
   "execution_count": 20,
   "id": "f22fcbdd",
   "metadata": {},
   "outputs": [
    {
     "name": "stderr",
     "output_type": "stream",
     "text": [
      "[nltk_data] Downloading package averaged_perceptron_tagger to\n",
      "[nltk_data]     C:\\Users\\pict\\AppData\\Roaming\\nltk_data...\n",
      "[nltk_data]   Package averaged_perceptron_tagger is already up-to-\n",
      "[nltk_data]       date!\n"
     ]
    },
    {
     "name": "stdout",
     "output_type": "stream",
     "text": [
      "Parts of Speech:  [('a', 'DT'), ('histori', 'NN'), ('of', 'IN'), ('the', 'DT'), ('bird', 'NN'), ('of', 'IN'), ('europ', 'NN'), ('includ', 'NN'), ('all', 'PDT'), ('the', 'DT'), ('speci', 'JJ'), ('inhabit', 'NN'), ('the', 'DT'), ('western', 'JJ'), ('palearct', 'JJ'), ('region', 'NN'), ('is', 'VBZ'), ('a', 'DT'), ('nine', 'CD'), ('volum', 'NN'), ('ornitholog', 'NN'), ('book', 'NN'), ('publish', 'NN'), ('in', 'IN'), ('part', 'NN'), ('between', 'IN'), ('1871', 'CD'), ('and', 'CC'), ('1882', 'CD'), ('it', 'PRP'), ('wa', 'VBD'), ('mainli', 'RB'), ('written', 'VBN'), ('by', 'IN'), ('henri', 'NN'), ('eel', 'NN'), ('dresser', 'NN'), ('although', 'IN'), ('richard', 'JJ'), ('bowdler', 'NN'), ('sharp', 'JJ'), ('co', 'NN'), ('author', 'NN'), ('the', 'DT'), ('earlier', 'JJR'), ('volum', 'NN'), ('it', 'PRP'), ('describ', 'VBZ'), ('all', 'PDT'), ('the', 'DT'), ('bird', 'NN'), ('speci', 'NN'), ('reliabl', 'NN'), ('record', 'NN'), ('in', 'IN'), ('the', 'DT'), ('wild', 'NN'), ('in', 'IN'), ('europ', 'NN'), ('and', 'CC'), ('adjac', 'JJ'), ('geograph', 'NNS'), ('area', 'NN'), ('with', 'IN'), ('similar', 'JJ'), ('fauna', 'NNS'), ('give', 'VBP'), ('their', 'PRP$'), ('worldwid', 'NN'), ('distribut', 'NN'), ('variat', 'NN'), ('in', 'IN'), ('appear', 'JJ'), ('and', 'CC'), ('migratori', 'JJ'), ('movement', 'NN')]\n"
     ]
    }
   ],
   "source": [
    "\n",
    "\n",
    "nltk.download('averaged_perceptron_tagger')\n",
    "print(\"Parts of Speech: \",nltk.pos_tag(leme))"
   ]
  },
  {
   "cell_type": "code",
   "execution_count": 21,
   "id": "c6c0f573",
   "metadata": {},
   "outputs": [],
   "source": [
    "# Stop Word"
   ]
  },
  {
   "cell_type": "code",
   "execution_count": 22,
   "id": "5b59bcf5",
   "metadata": {},
   "outputs": [
    {
     "name": "stdout",
     "output_type": "stream",
     "text": [
      "['i', 'me', 'my', 'myself', 'we', 'our', 'ours', 'ourselves', 'you', \"you're\", \"you've\", \"you'll\", \"you'd\", 'your', 'yours', 'yourself', 'yourselves', 'he', 'him', 'his', 'himself', 'she', \"she's\", 'her', 'hers', 'herself', 'it', \"it's\", 'its', 'itself', 'they', 'them', 'their', 'theirs', 'themselves', 'what', 'which', 'who', 'whom', 'this', 'that', \"that'll\", 'these', 'those', 'am', 'is', 'are', 'was', 'were', 'be', 'been', 'being', 'have', 'has', 'had', 'having', 'do', 'does', 'did', 'doing', 'a', 'an', 'the', 'and', 'but', 'if', 'or', 'because', 'as', 'until', 'while', 'of', 'at', 'by', 'for', 'with', 'about', 'against', 'between', 'into', 'through', 'during', 'before', 'after', 'above', 'below', 'to', 'from', 'up', 'down', 'in', 'out', 'on', 'off', 'over', 'under', 'again', 'further', 'then', 'once', 'here', 'there', 'when', 'where', 'why', 'how', 'all', 'any', 'both', 'each', 'few', 'more', 'most', 'other', 'some', 'such', 'no', 'nor', 'not', 'only', 'own', 'same', 'so', 'than', 'too', 'very', 's', 't', 'can', 'will', 'just', 'don', \"don't\", 'should', \"should've\", 'now', 'd', 'll', 'm', 'o', 're', 've', 'y', 'ain', 'aren', \"aren't\", 'couldn', \"couldn't\", 'didn', \"didn't\", 'doesn', \"doesn't\", 'hadn', \"hadn't\", 'hasn', \"hasn't\", 'haven', \"haven't\", 'isn', \"isn't\", 'ma', 'mightn', \"mightn't\", 'mustn', \"mustn't\", 'needn', \"needn't\", 'shan', \"shan't\", 'shouldn', \"shouldn't\", 'wasn', \"wasn't\", 'weren', \"weren't\", 'won', \"won't\", 'wouldn', \"wouldn't\"]\n"
     ]
    },
    {
     "name": "stderr",
     "output_type": "stream",
     "text": [
      "[nltk_data] Downloading package stopwords to\n",
      "[nltk_data]     C:\\Users\\pict\\AppData\\Roaming\\nltk_data...\n",
      "[nltk_data]   Package stopwords is already up-to-date!\n"
     ]
    }
   ],
   "source": [
    "from nltk.corpus import stopwords\n",
    "nltk.download('stopwords')\n",
    "\n",
    "sw_nltk = stopwords.words('english')\n",
    "print(sw_nltk)"
   ]
  },
  {
   "cell_type": "code",
   "execution_count": 23,
   "id": "c06cc1ab",
   "metadata": {},
   "outputs": [
    {
     "name": "stdout",
     "output_type": "stream",
     "text": [
      "History Birds Europe Including Species Inhabiting Western Palearctic Region nine volume ornithological book published parts 1871 1882 mainly written Henry Eeles Dresser although Richard Bowdler Sharpe co authored earlier volumes describes bird species reliably recorded wild Europe adjacent geographical areas similar fauna giving worldwide distribution variations appearance migratory movements\n"
     ]
    }
   ],
   "source": [
    "words = [word for word in sentence.split() if word.lower() not in sw_nltk]\n",
    "new_text = \" \".join(words)\n",
    "print(new_text)"
   ]
  },
  {
   "cell_type": "code",
   "execution_count": 24,
   "id": "e5a842e0",
   "metadata": {},
   "outputs": [],
   "source": [
    "# TERM FREQUENCY INVERSE DOCUMENT FREQUENCY"
   ]
  },
  {
   "cell_type": "code",
   "execution_count": 25,
   "id": "d8373114",
   "metadata": {},
   "outputs": [],
   "source": [
    "from sklearn.feature_extraction.text import TfidfVectorizer"
   ]
  },
  {
   "cell_type": "code",
   "execution_count": 60,
   "id": "01cc7b38",
   "metadata": {},
   "outputs": [
    {
     "name": "stdout",
     "output_type": "stream",
     "text": [
      "A 1\n",
      "History 1\n",
      "of 2\n",
      "the 6\n",
      "Birds 1\n",
      "Europe, 1\n",
      "Including 1\n",
      "all 2\n",
      "Species 1\n",
      "Inhabiting 1\n",
      "Western 1\n",
      "Palearctic 1\n",
      "Region 1\n",
      "is 1\n",
      "a 1\n",
      "nine-volume 1\n",
      "ornithological 1\n",
      "book 1\n",
      "published 1\n",
      "in 4\n",
      "parts 1\n",
      "between 1\n",
      "1871 1\n",
      "and 3\n",
      "1882. 1\n",
      "It 2\n",
      "was 1\n",
      "mainly 1\n",
      "written 1\n",
      "by 1\n",
      "Henry 1\n",
      "Eeles 1\n",
      "Dresser, 1\n",
      "although 1\n",
      "Richard 1\n",
      "Bowdler 1\n",
      "Sharpe 1\n",
      "co-authored 1\n",
      "earlier 1\n",
      "volumes. 1\n",
      "describes 1\n",
      "bird 1\n",
      "species 1\n",
      "reliably 1\n",
      "recorded 1\n",
      "wild 1\n",
      "Europe 1\n",
      "adjacent 1\n",
      "geographical 1\n",
      "areas 1\n",
      "with 1\n",
      "similar 1\n",
      "fauna, 1\n",
      "giving 1\n",
      "their 1\n",
      "worldwide 1\n",
      "distribution, 1\n",
      "variations 1\n",
      "appearance 1\n",
      "migratory 1\n",
      "movements. 1\n"
     ]
    },
    {
     "data": {
      "text/plain": [
       "{'A': 0.013513513513513514,\n",
       " 'History': 0.013513513513513514,\n",
       " 'of': 0.02702702702702703,\n",
       " 'the': 0.08108108108108109,\n",
       " 'Birds': 0.013513513513513514,\n",
       " 'Europe,': 0.013513513513513514,\n",
       " 'Including': 0.013513513513513514,\n",
       " 'all': 0.02702702702702703,\n",
       " 'Species': 0.013513513513513514,\n",
       " 'Inhabiting': 0.013513513513513514,\n",
       " 'Western': 0.013513513513513514,\n",
       " 'Palearctic': 0.013513513513513514,\n",
       " 'Region': 0.013513513513513514,\n",
       " 'is': 0.013513513513513514,\n",
       " 'a': 0.013513513513513514,\n",
       " 'nine-volume': 0.013513513513513514,\n",
       " 'ornithological': 0.013513513513513514,\n",
       " 'book': 0.013513513513513514,\n",
       " 'published': 0.013513513513513514,\n",
       " 'in': 0.05405405405405406,\n",
       " 'parts': 0.013513513513513514,\n",
       " 'between': 0.013513513513513514,\n",
       " '1871': 0.013513513513513514,\n",
       " 'and': 0.04054054054054054,\n",
       " '1882.': 0.013513513513513514,\n",
       " 'It': 0.02702702702702703,\n",
       " 'was': 0.013513513513513514,\n",
       " 'mainly': 0.013513513513513514,\n",
       " 'written': 0.013513513513513514,\n",
       " 'by': 0.013513513513513514,\n",
       " 'Henry': 0.013513513513513514,\n",
       " 'Eeles': 0.013513513513513514,\n",
       " 'Dresser,': 0.013513513513513514,\n",
       " 'although': 0.013513513513513514,\n",
       " 'Richard': 0.013513513513513514,\n",
       " 'Bowdler': 0.013513513513513514,\n",
       " 'Sharpe': 0.013513513513513514,\n",
       " 'co-authored': 0.013513513513513514,\n",
       " 'earlier': 0.013513513513513514,\n",
       " 'volumes.': 0.013513513513513514,\n",
       " 'describes': 0.013513513513513514,\n",
       " 'bird': 0.013513513513513514,\n",
       " 'species': 0.013513513513513514,\n",
       " 'reliably': 0.013513513513513514,\n",
       " 'recorded': 0.013513513513513514,\n",
       " 'wild': 0.013513513513513514,\n",
       " 'Europe': 0.013513513513513514,\n",
       " 'adjacent': 0.013513513513513514,\n",
       " 'geographical': 0.013513513513513514,\n",
       " 'areas': 0.013513513513513514,\n",
       " 'with': 0.013513513513513514,\n",
       " 'similar': 0.013513513513513514,\n",
       " 'fauna,': 0.013513513513513514,\n",
       " 'giving': 0.013513513513513514,\n",
       " 'their': 0.013513513513513514,\n",
       " 'worldwide': 0.013513513513513514,\n",
       " 'distribution,': 0.013513513513513514,\n",
       " 'variations': 0.013513513513513514,\n",
       " 'appearance': 0.013513513513513514,\n",
       " 'migratory': 0.013513513513513514,\n",
       " 'movements.': 0.013513513513513514}"
      ]
     },
     "execution_count": 60,
     "metadata": {},
     "output_type": "execute_result"
    }
   ],
   "source": [
    "# term frequency \n",
    "\n",
    "def tf(corpus):\n",
    "    dic={}\n",
    "    for document in corpus:\n",
    "        for word in document.split():\n",
    "            if word in dic:\n",
    "                dic[word]+=1\n",
    "            else:\n",
    "                dic[word]=1\n",
    "        for word,freq in dic.items():\n",
    "            print(word,freq)\n",
    "            dic[word]=freq/len(document.split())\n",
    "    return dic\n",
    "tf(data)"
   ]
  },
  {
   "cell_type": "code",
   "execution_count": 7,
   "id": "e460bd30",
   "metadata": {},
   "outputs": [],
   "source": [
    "# Open the file in read mode\n",
    "with open('Birds.txt', 'r') as file:\n",
    "    # Read the contents of the file into a string\n",
    "    text = file.read()\n",
    "\n",
    "sentences = list(text.split(\".\"))\n",
    "sentences.remove(\"\")\n",
    "# sentences\n",
    "\n",
    "words = ['mainly','appearance','Birds']\n",
    "idf1 = {}\n",
    "N =3\n",
    "\n",
    "import math\n"
   ]
  },
  {
   "cell_type": "code",
   "execution_count": 8,
   "id": "0a733eb1",
   "metadata": {},
   "outputs": [],
   "source": [
    "for w in words:\n",
    "    count=0\n",
    "    if w in sentences[0]:\n",
    "        count+=1\n",
    "    if w in sentences[1]:\n",
    "        count+=1\n",
    "    if w in sentences[2]:\n",
    "        count+=1\n",
    "    tp = float(N/count)\n",
    "    ans = math.log10(tp)\n",
    "    if w in idf1:\n",
    "        pass\n",
    "    else:\n",
    "        idf1[w]=ans\n"
   ]
  },
  {
   "cell_type": "code",
   "execution_count": 9,
   "id": "ec5666ad",
   "metadata": {},
   "outputs": [
    {
     "data": {
      "text/plain": [
       "{'mainly': 0.47712125471966244,\n",
       " 'appearance': 0.47712125471966244,\n",
       " 'Birds': 0.47712125471966244}"
      ]
     },
     "execution_count": 9,
     "metadata": {},
     "output_type": "execute_result"
    }
   ],
   "source": [
    "idf1"
   ]
  },
  {
   "cell_type": "code",
   "execution_count": null,
   "id": "53b79668",
   "metadata": {},
   "outputs": [],
   "source": []
  }
 ],
 "metadata": {
  "kernelspec": {
   "display_name": "Python 3 (ipykernel)",
   "language": "python",
   "name": "python3"
  },
  "language_info": {
   "codemirror_mode": {
    "name": "ipython",
    "version": 3
   },
   "file_extension": ".py",
   "mimetype": "text/x-python",
   "name": "python",
   "nbconvert_exporter": "python",
   "pygments_lexer": "ipython3",
   "version": "3.9.13"
  }
 },
 "nbformat": 4,
 "nbformat_minor": 5
}
