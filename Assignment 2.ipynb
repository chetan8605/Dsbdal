{
 "cells": [
  {
   "cell_type": "markdown",
   "id": "2cfb406c",
   "metadata": {},
   "source": [
    "# Importing libraries"
   ]
  },
  {
   "cell_type": "code",
   "execution_count": 49,
   "id": "d0af6c60",
   "metadata": {},
   "outputs": [],
   "source": [
    "import numpy as np\n",
    "import pandas as pd\n",
    "import matplotlib.pyplot as plt\n",
    "import seaborn as sns\n",
    "from sklearn import preprocessing\n",
    "import random\n",
    "import string"
   ]
  },
  {
   "cell_type": "markdown",
   "id": "c4c7c3c4",
   "metadata": {},
   "source": [
    "## Creating id list"
   ]
  },
  {
   "cell_type": "code",
   "execution_count": 50,
   "id": "72009a01",
   "metadata": {},
   "outputs": [],
   "source": [
    "idlst = list(range(1,101))"
   ]
  },
  {
   "cell_type": "code",
   "execution_count": 51,
   "id": "2fe16d55",
   "metadata": {},
   "outputs": [
    {
     "name": "stdout",
     "output_type": "stream",
     "text": [
      "[1, 2, 3, 4, 5, 6, 7, 8, 9, 10, 11, 12, 13, 14, 15, 16, 17, 18, 19, 20, 21, 22, 23, 24, 25, 26, 27, 28, 29, 30, 31, 32, 33, 34, 35, 36, 37, 38, 39, 40, 41, 42, 43, 44, 45, 46, 47, 48, 49, 50, 51, 52, 53, 54, 55, 56, 57, 58, 59, 60, 61, 62, 63, 64, 65, 66, 67, 68, 69, 70, 71, 72, 73, 74, 75, 76, 77, 78, 79, 80, 81, 82, 83, 84, 85, 86, 87, 88, 89, 90, 91, 92, 93, 94, 95, 96, 97, 98, 99, 100]\n"
     ]
    }
   ],
   "source": [
    "print(idlst)"
   ]
  },
  {
   "cell_type": "markdown",
   "id": "68d564c8",
   "metadata": {},
   "source": [
    "## Creating name list"
   ]
  },
  {
   "cell_type": "code",
   "execution_count": 52,
   "id": "a2c44f5b",
   "metadata": {},
   "outputs": [],
   "source": [
    "nmlst = []\n",
    "for i in range(100):\n",
    "    nmlst.append(''.join(random.choices(string.ascii_letters, k=5)))"
   ]
  },
  {
   "cell_type": "code",
   "execution_count": 53,
   "id": "16c90af2",
   "metadata": {},
   "outputs": [
    {
     "name": "stdout",
     "output_type": "stream",
     "text": [
      "['eJDpk', 'ceqUy', 'JJPiE', 'asVDR', 'lFDsa', 'FDSdA', 'YBigM', 'wFpIU', 'ywOTy', 'dkJak', 'TNlgg', 'suxNz', 'msYdr', 'zVDmp', 'walfK', 'oWOjV', 'lLuRa', 'itlAY', 'ucpNY', 'YCdTX', 'fjobW', 'sJmGq', 'PwxmI', 'TapEB', 'ULSnj', 'bsrIt', 'FcIOt', 'RwIvS', 'BmSeU', 'fsDAd', 'BVogy', 'tgFHQ', 'Gwizp', 'xpnxX', 'XkmGP', 'NUnoP', 'kzsXg', 'QCoko', 'ONtzw', 'JkMLS', 'OnOhR', 'bzZXU', 'SPNcm', 'bFQEx', 'RvWHO', 'uTJgM', 'PzelQ', 'qeOrQ', 'aeSJI', 'dOSWR', 'tPZQN', 'gHDUf', 'xfKMb', 'FkSZd', 'njIrH', 'aSlKf', 'bGiuG', 'Bqqnx', 'xwBns', 'iyawF', 'FSWvJ', 'AFmQQ', 'wWWzC', 'VUcPT', 'AWVPL', 'fTrKH', 'FkVdT', 'PGqJY', 'WjXzx', 'obBTH', 'okzTi', 'eNgVX', 'BeDZq', 'KuUYp', 'HYDqJ', 'EnvDw', 'MhacA', 'klfcF', 'mYqCx', 'SnJcl', 'PRAFX', 'xAUWt', 'lmYEl', 'ZfTkg', 'OvEaO', 'AKLFr', 'MNVHz', 'DNrtH', 'peNtW', 'VcQgr', 'pBrJp', 'uSTIC', 'ZfGyF', 'VUoJf', 'pKCAz', 'CRqjs', 'DtCbn', 'zEBGk', 'eneJX', 'FbGik']\n"
     ]
    }
   ],
   "source": [
    "print(nmlst)"
   ]
  },
  {
   "cell_type": "markdown",
   "id": "81418060",
   "metadata": {},
   "source": [
    "## Creating gender list"
   ]
  },
  {
   "cell_type": "code",
   "execution_count": 54,
   "id": "3e2014d7",
   "metadata": {},
   "outputs": [],
   "source": [
    "genlst = random.choices(['Male','Female',None],weights=[10,10,2], k=100)"
   ]
  },
  {
   "cell_type": "code",
   "execution_count": 55,
   "id": "ca7c2571",
   "metadata": {
    "scrolled": true
   },
   "outputs": [
    {
     "name": "stdout",
     "output_type": "stream",
     "text": [
      "['Female', 'Female', 'Female', None, 'Female', 'Male', 'Female', 'Female', 'Female', 'Male', 'Female', 'Male', 'Male', 'Male', 'Male', 'Female', None, 'Female', None, None, 'Male', 'Male', 'Male', 'Female', 'Male', 'Female', 'Female', 'Female', 'Male', None, 'Female', 'Female', 'Male', 'Male', 'Male', 'Female', None, 'Female', 'Male', 'Female', 'Female', 'Female', 'Female', 'Male', 'Female', 'Male', 'Female', None, 'Male', 'Female', 'Female', 'Female', 'Male', 'Male', 'Female', 'Female', 'Female', 'Female', 'Female', 'Female', 'Female', 'Male', None, None, 'Female', 'Female', 'Male', 'Female', 'Male', None, 'Female', 'Female', 'Male', 'Female', 'Male', 'Female', None, 'Female', 'Male', 'Female', 'Female', 'Male', 'Female', 'Male', 'Female', 'Female', None, 'Male', 'Female', 'Female', 'Male', 'Female', 'Male', 'Male', 'Male', 'Male', 'Male', 'Male', 'Female', 'Male']\n"
     ]
    }
   ],
   "source": [
    "print(genlst)"
   ]
  },
  {
   "cell_type": "markdown",
   "id": "b12e772f",
   "metadata": {},
   "source": [
    "## Creating class list"
   ]
  },
  {
   "cell_type": "code",
   "execution_count": 56,
   "id": "10872b2b",
   "metadata": {},
   "outputs": [],
   "source": [
    "clslst = []\n",
    "for i in range(100):\n",
    "    clslst.append(np.random.randint(1,10))"
   ]
  },
  {
   "cell_type": "code",
   "execution_count": 57,
   "id": "72366dee",
   "metadata": {},
   "outputs": [
    {
     "name": "stdout",
     "output_type": "stream",
     "text": [
      "[2, 4, 6, 3, 6, 4, 7, 2, 7, 4, 2, 7, 2, 8, 5, 3, 9, 1, 6, 7, 5, 7, 7, 7, 8, 9, 4, 3, 8, 1, 3, 8, 8, 1, 9, 3, 1, 8, 9, 3, 5, 9, 5, 4, 6, 8, 2, 8, 5, 2, 6, 7, 5, 7, 7, 7, 7, 1, 1, 5, 7, 9, 1, 3, 2, 8, 1, 7, 6, 9, 5, 2, 2, 1, 2, 7, 9, 5, 6, 4, 7, 1, 3, 1, 4, 5, 1, 6, 9, 3, 1, 9, 8, 8, 5, 7, 4, 7, 6, 9]\n"
     ]
    }
   ],
   "source": [
    "print(clslst)"
   ]
  },
  {
   "cell_type": "markdown",
   "id": "e44d0e3b",
   "metadata": {},
   "source": [
    "## Creating subject list (subject_id)"
   ]
  },
  {
   "cell_type": "code",
   "execution_count": 58,
   "id": "c0af72da",
   "metadata": {},
   "outputs": [],
   "source": [
    "sublst = []\n",
    "for i in range(100):\n",
    "    sublst.append(np.random.randint(1005,1016))"
   ]
  },
  {
   "cell_type": "code",
   "execution_count": 59,
   "id": "25c4f151",
   "metadata": {},
   "outputs": [
    {
     "name": "stdout",
     "output_type": "stream",
     "text": [
      "[1010, 1015, 1008, 1010, 1006, 1010, 1011, 1005, 1011, 1005, 1010, 1013, 1011, 1014, 1009, 1008, 1014, 1013, 1014, 1010, 1006, 1014, 1007, 1015, 1011, 1005, 1015, 1013, 1006, 1008, 1014, 1011, 1006, 1013, 1010, 1013, 1008, 1012, 1007, 1010, 1012, 1013, 1008, 1008, 1012, 1015, 1006, 1007, 1005, 1010, 1009, 1015, 1011, 1013, 1014, 1005, 1008, 1007, 1006, 1005, 1005, 1013, 1008, 1008, 1010, 1011, 1014, 1013, 1008, 1005, 1005, 1007, 1009, 1010, 1014, 1011, 1013, 1007, 1010, 1014, 1005, 1007, 1011, 1014, 1009, 1006, 1013, 1008, 1009, 1011, 1008, 1009, 1005, 1015, 1013, 1007, 1007, 1012, 1005, 1015]\n"
     ]
    }
   ],
   "source": [
    "print(sublst)"
   ]
  },
  {
   "cell_type": "markdown",
   "id": "13ca1f97",
   "metadata": {},
   "source": [
    "## Creating attendance list"
   ]
  },
  {
   "cell_type": "code",
   "execution_count": 60,
   "id": "129af5c9",
   "metadata": {},
   "outputs": [],
   "source": [
    "attenlst = []\n",
    "for i in range(100):\n",
    "    attenlst = attenlst + (random.choices([random.randint(10,100),None],weights=[10,2]))"
   ]
  },
  {
   "cell_type": "code",
   "execution_count": 61,
   "id": "5a82ef9c",
   "metadata": {},
   "outputs": [
    {
     "name": "stdout",
     "output_type": "stream",
     "text": [
      "[85, 52, 78, 91, 93, 28, None, 100, 39, 86, 35, 70, None, None, None, 57, 69, 57, 39, 53, None, 24, 42, 43, None, 74, 84, 73, None, None, 68, 28, 100, 49, 64, 91, 32, 30, None, 82, 78, 99, 60, 54, 67, 68, 32, 38, None, None, None, 86, 90, 74, None, 12, None, 81, 40, None, 13, None, 82, 20, 41, 47, 72, None, 43, None, None, 16, 82, 94, None, 12, 27, None, 89, None, 31, None, 20, 11, 96, 66, 93, 24, 20, 69, 47, 38, 81, 12, None, 98, 38, 71, 99, 85]\n"
     ]
    }
   ],
   "source": [
    "print(attenlst)"
   ]
  },
  {
   "cell_type": "markdown",
   "id": "a2bc132e",
   "metadata": {},
   "source": [
    "## Co-curricular rating"
   ]
  },
  {
   "cell_type": "code",
   "execution_count": 62,
   "id": "07a69d9c",
   "metadata": {},
   "outputs": [],
   "source": [
    "cocurlst = []\n",
    "for i in range(100):\n",
    "    cocurlst.append(np.random.randint(1,6))"
   ]
  },
  {
   "cell_type": "code",
   "execution_count": 63,
   "id": "79ef0b75",
   "metadata": {},
   "outputs": [
    {
     "name": "stdout",
     "output_type": "stream",
     "text": [
      "[2, 4, 2, 4, 5, 2, 1, 2, 4, 1, 3, 5, 1, 2, 5, 5, 3, 1, 3, 5, 2, 1, 1, 5, 4, 2, 4, 4, 1, 5, 5, 2, 5, 3, 2, 5, 1, 3, 4, 2, 2, 5, 2, 3, 4, 5, 2, 2, 3, 5, 2, 3, 4, 5, 2, 3, 4, 4, 2, 3, 2, 4, 4, 5, 2, 4, 1, 2, 2, 4, 2, 1, 1, 5, 4, 2, 5, 1, 1, 2, 5, 1, 4, 2, 1, 4, 3, 4, 3, 1, 2, 1, 3, 2, 1, 1, 3, 3, 4, 1]\n"
     ]
    }
   ],
   "source": [
    "print(cocurlst)"
   ]
  },
  {
   "cell_type": "markdown",
   "id": "2a26f9c0",
   "metadata": {},
   "source": [
    "## Aggregate CGPA"
   ]
  },
  {
   "cell_type": "code",
   "execution_count": 64,
   "id": "4bb12502",
   "metadata": {},
   "outputs": [],
   "source": [
    "cgpalst = []\n",
    "for i in range(99):\n",
    "    cgpalst = cgpalst + (random.choices([float(\"%.2f\"%random.uniform(6,10)),float(\"%.2f\"%random.uniform(9,10))], weights=[6,4]))\n",
    "cgpalst.append(None)"
   ]
  },
  {
   "cell_type": "code",
   "execution_count": 65,
   "id": "a9352197",
   "metadata": {},
   "outputs": [
    {
     "name": "stdout",
     "output_type": "stream",
     "text": [
      "[7.97, 8.63, 8.76, 8.7, 9.64, 9.35, 6.3, 9.79, 9.78, 9.02, 9.51, 8.22, 8.16, 9.98, 9.43, 9.05, 9.55, 8.41, 9.75, 9.91, 9.91, 9.57, 9.66, 9.47, 9.09, 7.42, 6.04, 9.7, 6.69, 9.07, 9.69, 9.19, 9.06, 10.0, 9.98, 6.44, 6.86, 9.44, 9.12, 9.46, 9.02, 9.37, 9.01, 9.14, 9.25, 8.96, 9.65, 9.15, 9.4, 8.08, 6.88, 9.28, 9.73, 9.5, 6.89, 9.93, 8.95, 8.88, 9.89, 7.33, 9.21, 8.14, 9.71, 6.39, 9.13, 9.62, 6.22, 7.8, 6.58, 9.3, 6.62, 8.96, 9.76, 7.42, 9.91, 8.41, 7.18, 8.14, 8.07, 9.71, 9.84, 7.77, 8.05, 9.2, 9.24, 9.83, 7.82, 9.08, 9.42, 9.34, 9.14, 7.06, 7.38, 8.48, 9.4, 9.23, 9.46, 6.7, 9.79, None]\n"
     ]
    }
   ],
   "source": [
    "print(cgpalst)"
   ]
  },
  {
   "cell_type": "markdown",
   "id": "fc0db3bd",
   "metadata": {},
   "source": [
    "# Creating DataFrame"
   ]
  },
  {
   "cell_type": "code",
   "execution_count": 66,
   "id": "d1930688",
   "metadata": {},
   "outputs": [],
   "source": [
    "df = pd.DataFrame({'ID':idlst,'Name':nmlst,'Gender':genlst,'Class':clslst,'Subject':sublst,'Attendance':attenlst,\n",
    "                   'Cocurricular_score':cocurlst,'CGPA':cgpalst})"
   ]
  },
  {
   "cell_type": "code",
   "execution_count": 67,
   "id": "52992f2b",
   "metadata": {},
   "outputs": [
    {
     "data": {
      "text/html": [
       "<div>\n",
       "<style scoped>\n",
       "    .dataframe tbody tr th:only-of-type {\n",
       "        vertical-align: middle;\n",
       "    }\n",
       "\n",
       "    .dataframe tbody tr th {\n",
       "        vertical-align: top;\n",
       "    }\n",
       "\n",
       "    .dataframe thead th {\n",
       "        text-align: right;\n",
       "    }\n",
       "</style>\n",
       "<table border=\"1\" class=\"dataframe\">\n",
       "  <thead>\n",
       "    <tr style=\"text-align: right;\">\n",
       "      <th></th>\n",
       "      <th>ID</th>\n",
       "      <th>Name</th>\n",
       "      <th>Gender</th>\n",
       "      <th>Class</th>\n",
       "      <th>Subject</th>\n",
       "      <th>Attendance</th>\n",
       "      <th>Cocurricular_score</th>\n",
       "      <th>CGPA</th>\n",
       "    </tr>\n",
       "  </thead>\n",
       "  <tbody>\n",
       "    <tr>\n",
       "      <th>0</th>\n",
       "      <td>1</td>\n",
       "      <td>eJDpk</td>\n",
       "      <td>Female</td>\n",
       "      <td>2</td>\n",
       "      <td>1010</td>\n",
       "      <td>85.0</td>\n",
       "      <td>2</td>\n",
       "      <td>7.97</td>\n",
       "    </tr>\n",
       "    <tr>\n",
       "      <th>1</th>\n",
       "      <td>2</td>\n",
       "      <td>ceqUy</td>\n",
       "      <td>Female</td>\n",
       "      <td>4</td>\n",
       "      <td>1015</td>\n",
       "      <td>52.0</td>\n",
       "      <td>4</td>\n",
       "      <td>8.63</td>\n",
       "    </tr>\n",
       "    <tr>\n",
       "      <th>2</th>\n",
       "      <td>3</td>\n",
       "      <td>JJPiE</td>\n",
       "      <td>Female</td>\n",
       "      <td>6</td>\n",
       "      <td>1008</td>\n",
       "      <td>78.0</td>\n",
       "      <td>2</td>\n",
       "      <td>8.76</td>\n",
       "    </tr>\n",
       "    <tr>\n",
       "      <th>3</th>\n",
       "      <td>4</td>\n",
       "      <td>asVDR</td>\n",
       "      <td>None</td>\n",
       "      <td>3</td>\n",
       "      <td>1010</td>\n",
       "      <td>91.0</td>\n",
       "      <td>4</td>\n",
       "      <td>8.70</td>\n",
       "    </tr>\n",
       "    <tr>\n",
       "      <th>4</th>\n",
       "      <td>5</td>\n",
       "      <td>lFDsa</td>\n",
       "      <td>Female</td>\n",
       "      <td>6</td>\n",
       "      <td>1006</td>\n",
       "      <td>93.0</td>\n",
       "      <td>5</td>\n",
       "      <td>9.64</td>\n",
       "    </tr>\n",
       "  </tbody>\n",
       "</table>\n",
       "</div>"
      ],
      "text/plain": [
       "   ID   Name  Gender  Class  Subject  Attendance  Cocurricular_score  CGPA\n",
       "0   1  eJDpk  Female      2     1010        85.0                   2  7.97\n",
       "1   2  ceqUy  Female      4     1015        52.0                   4  8.63\n",
       "2   3  JJPiE  Female      6     1008        78.0                   2  8.76\n",
       "3   4  asVDR    None      3     1010        91.0                   4  8.70\n",
       "4   5  lFDsa  Female      6     1006        93.0                   5  9.64"
      ]
     },
     "execution_count": 67,
     "metadata": {},
     "output_type": "execute_result"
    }
   ],
   "source": [
    "df.head(5)"
   ]
  },
  {
   "cell_type": "markdown",
   "id": "d31dead4",
   "metadata": {},
   "source": [
    "## Null values"
   ]
  },
  {
   "cell_type": "code",
   "execution_count": 68,
   "id": "848c315f",
   "metadata": {},
   "outputs": [
    {
     "data": {
      "text/plain": [
       "ID                     0\n",
       "Name                   0\n",
       "Gender                12\n",
       "Class                  0\n",
       "Subject                0\n",
       "Attendance            24\n",
       "Cocurricular_score     0\n",
       "CGPA                   1\n",
       "dtype: int64"
      ]
     },
     "execution_count": 68,
     "metadata": {},
     "output_type": "execute_result"
    }
   ],
   "source": [
    "df.isnull().sum()"
   ]
  },
  {
   "cell_type": "markdown",
   "id": "4c277b07",
   "metadata": {},
   "source": [
    "### Filling null values"
   ]
  },
  {
   "cell_type": "markdown",
   "id": "dbd1c2cb",
   "metadata": {},
   "source": [
    "#### For Gender"
   ]
  },
  {
   "cell_type": "code",
   "execution_count": 69,
   "id": "9dadbfbc",
   "metadata": {},
   "outputs": [
    {
     "data": {
      "text/plain": [
       "12"
      ]
     },
     "execution_count": 69,
     "metadata": {},
     "output_type": "execute_result"
    }
   ],
   "source": [
    "df['Gender'].isnull().sum()"
   ]
  },
  {
   "cell_type": "code",
   "execution_count": 70,
   "id": "d96842ff",
   "metadata": {},
   "outputs": [],
   "source": [
    "var = 'Male' if (df['Gender'].value_counts()['Male']>df['Gender'].value_counts()['Female']) else 'Female'\n",
    "df['Gender'].fillna(var,inplace=True)"
   ]
  },
  {
   "cell_type": "code",
   "execution_count": 71,
   "id": "f8814c6a",
   "metadata": {},
   "outputs": [
    {
     "data": {
      "text/plain": [
       "Female    63\n",
       "Male      37\n",
       "Name: Gender, dtype: int64"
      ]
     },
     "execution_count": 71,
     "metadata": {},
     "output_type": "execute_result"
    }
   ],
   "source": [
    "df['Gender'].value_counts()"
   ]
  },
  {
   "cell_type": "code",
   "execution_count": 72,
   "id": "a210be14",
   "metadata": {},
   "outputs": [
    {
     "data": {
      "text/plain": [
       "0"
      ]
     },
     "execution_count": 72,
     "metadata": {},
     "output_type": "execute_result"
    }
   ],
   "source": [
    "df['Gender'].isnull().sum()"
   ]
  },
  {
   "cell_type": "markdown",
   "id": "71107bec",
   "metadata": {},
   "source": [
    "#### For Attendance"
   ]
  },
  {
   "cell_type": "code",
   "execution_count": 73,
   "id": "631d1ce2",
   "metadata": {},
   "outputs": [
    {
     "data": {
      "text/plain": [
       "24"
      ]
     },
     "execution_count": 73,
     "metadata": {},
     "output_type": "execute_result"
    }
   ],
   "source": [
    "df['Attendance'].isnull().sum()"
   ]
  },
  {
   "cell_type": "code",
   "execution_count": 74,
   "id": "fd1a8ee3",
   "metadata": {},
   "outputs": [],
   "source": [
    "df['Attendance'].fillna(int(df['Attendance'].mean()),inplace=True)"
   ]
  },
  {
   "cell_type": "code",
   "execution_count": 75,
   "id": "1d3740fb",
   "metadata": {},
   "outputs": [
    {
     "data": {
      "text/plain": [
       "0"
      ]
     },
     "execution_count": 75,
     "metadata": {},
     "output_type": "execute_result"
    }
   ],
   "source": [
    "df['Attendance'].isnull().sum()"
   ]
  },
  {
   "cell_type": "code",
   "execution_count": 76,
   "id": "67ec6f8f",
   "metadata": {},
   "outputs": [
    {
     "data": {
      "text/plain": [
       "1"
      ]
     },
     "execution_count": 76,
     "metadata": {},
     "output_type": "execute_result"
    }
   ],
   "source": [
    "df['CGPA'].isnull().sum()"
   ]
  },
  {
   "cell_type": "code",
   "execution_count": 77,
   "id": "bfdda9df",
   "metadata": {},
   "outputs": [],
   "source": [
    "df['CGPA'].fillna(int(df['CGPA'].mean()),inplace=True)"
   ]
  },
  {
   "cell_type": "code",
   "execution_count": 78,
   "id": "f06c046e",
   "metadata": {},
   "outputs": [
    {
     "data": {
      "text/plain": [
       "0"
      ]
     },
     "execution_count": 78,
     "metadata": {},
     "output_type": "execute_result"
    }
   ],
   "source": [
    "df['CGPA'].isnull().sum()"
   ]
  },
  {
   "cell_type": "markdown",
   "id": "ac25b54e",
   "metadata": {},
   "source": [
    "## Identifying outliers"
   ]
  },
  {
   "cell_type": "code",
   "execution_count": 79,
   "id": "296aa70f",
   "metadata": {},
   "outputs": [
    {
     "data": {
      "text/plain": [
       "<AxesSubplot:xlabel='ID', ylabel='CGPA'>"
      ]
     },
     "execution_count": 79,
     "metadata": {},
     "output_type": "execute_result"
    },
    {
     "data": {
      "image/png": "[encoded data removed]",
      "text/plain": [
       "<Figure size 432x288 with 1 Axes>"
      ]
     },
     "metadata": {
      "needs_background": "light"
     },
     "output_type": "display_data"
    }
   ],
   "source": [
    "sns.scatterplot(x='ID',y='CGPA', data=df)"
   ]
  },
  {
   "cell_type": "code",
   "execution_count": 80,
   "id": "c5ab78dc",
   "metadata": {},
   "outputs": [
    {
     "data": {
      "text/html": [
       "<div>\n",
       "<style scoped>\n",
       "    .dataframe tbody tr th:only-of-type {\n",
       "        vertical-align: middle;\n",
       "    }\n",
       "\n",
       "    .dataframe tbody tr th {\n",
       "        vertical-align: top;\n",
       "    }\n",
       "\n",
       "    .dataframe thead th {\n",
       "        text-align: right;\n",
       "    }\n",
       "</style>\n",
       "<table border=\"1\" class=\"dataframe\">\n",
       "  <thead>\n",
       "    <tr style=\"text-align: right;\">\n",
       "      <th></th>\n",
       "      <th>ID</th>\n",
       "      <th>Name</th>\n",
       "      <th>Gender</th>\n",
       "      <th>Class</th>\n",
       "      <th>Subject</th>\n",
       "      <th>Attendance</th>\n",
       "      <th>Cocurricular_score</th>\n",
       "      <th>CGPA</th>\n",
       "    </tr>\n",
       "  </thead>\n",
       "  <tbody>\n",
       "    <tr>\n",
       "      <th>6</th>\n",
       "      <td>7</td>\n",
       "      <td>YBigM</td>\n",
       "      <td>Female</td>\n",
       "      <td>7</td>\n",
       "      <td>1011</td>\n",
       "      <td>58.0</td>\n",
       "      <td>1</td>\n",
       "      <td>6.30</td>\n",
       "    </tr>\n",
       "    <tr>\n",
       "      <th>26</th>\n",
       "      <td>27</td>\n",
       "      <td>FcIOt</td>\n",
       "      <td>Female</td>\n",
       "      <td>4</td>\n",
       "      <td>1015</td>\n",
       "      <td>84.0</td>\n",
       "      <td>4</td>\n",
       "      <td>6.04</td>\n",
       "    </tr>\n",
       "    <tr>\n",
       "      <th>35</th>\n",
       "      <td>36</td>\n",
       "      <td>NUnoP</td>\n",
       "      <td>Female</td>\n",
       "      <td>3</td>\n",
       "      <td>1013</td>\n",
       "      <td>91.0</td>\n",
       "      <td>5</td>\n",
       "      <td>6.44</td>\n",
       "    </tr>\n",
       "    <tr>\n",
       "      <th>63</th>\n",
       "      <td>64</td>\n",
       "      <td>VUcPT</td>\n",
       "      <td>Female</td>\n",
       "      <td>3</td>\n",
       "      <td>1008</td>\n",
       "      <td>20.0</td>\n",
       "      <td>5</td>\n",
       "      <td>6.39</td>\n",
       "    </tr>\n",
       "    <tr>\n",
       "      <th>66</th>\n",
       "      <td>67</td>\n",
       "      <td>FkVdT</td>\n",
       "      <td>Male</td>\n",
       "      <td>1</td>\n",
       "      <td>1014</td>\n",
       "      <td>72.0</td>\n",
       "      <td>1</td>\n",
       "      <td>6.22</td>\n",
       "    </tr>\n",
       "  </tbody>\n",
       "</table>\n",
       "</div>"
      ],
      "text/plain": [
       "    ID   Name  Gender  Class  Subject  Attendance  Cocurricular_score  CGPA\n",
       "6    7  YBigM  Female      7     1011        58.0                   1  6.30\n",
       "26  27  FcIOt  Female      4     1015        84.0                   4  6.04\n",
       "35  36  NUnoP  Female      3     1013        91.0                   5  6.44\n",
       "63  64  VUcPT  Female      3     1008        20.0                   5  6.39\n",
       "66  67  FkVdT    Male      1     1014        72.0                   1  6.22"
      ]
     },
     "execution_count": 80,
     "metadata": {},
     "output_type": "execute_result"
    }
   ],
   "source": [
    "df[df['CGPA']<6.5]"
   ]
  },
  {
   "cell_type": "markdown",
   "id": "4e813e24",
   "metadata": {},
   "source": [
    "### Dropping Outliers"
   ]
  },
  {
   "cell_type": "code",
   "execution_count": 81,
   "id": "e1f4608a",
   "metadata": {},
   "outputs": [],
   "source": [
    "indla = df[df['CGPA']<6.5].index\n",
    "df.drop(indla, inplace=True)"
   ]
  },
  {
   "cell_type": "code",
   "execution_count": 82,
   "id": "423f2fc4",
   "metadata": {},
   "outputs": [
    {
     "data": {
      "text/plain": [
       "(95, 8)"
      ]
     },
     "execution_count": 82,
     "metadata": {},
     "output_type": "execute_result"
    }
   ],
   "source": [
    "df.shape"
   ]
  },
  {
   "cell_type": "code",
   "execution_count": 83,
   "id": "67dc43bd",
   "metadata": {
    "scrolled": true
   },
   "outputs": [
    {
     "data": {
      "text/plain": [
       "<AxesSubplot:xlabel='ID', ylabel='CGPA'>"
      ]
     },
     "execution_count": 83,
     "metadata": {},
     "output_type": "execute_result"
    },
    {
     "data": {
      "image/png": "[encoded data removed]",
      "text/plain": [
       "<Figure size 432x288 with 1 Axes>"
      ]
     },
     "metadata": {
      "needs_background": "light"
     },
     "output_type": "display_data"
    }
   ],
   "source": [
    "sns.scatterplot(x='ID',y='CGPA', data=df)"
   ]
  },
  {
   "cell_type": "code",
   "execution_count": 84,
   "id": "24a1dfd7",
   "metadata": {
    "scrolled": true
   },
   "outputs": [
    {
     "name": "stderr",
     "output_type": "stream",
     "text": [
      "<ipython-input-84-9e0b1e29546f>:1: FutureWarning: Dropping of nuisance columns in DataFrame reductions (with 'numeric_only=None') is deprecated; in a future version this will raise TypeError.  Select only valid columns before calling the reduction.\n",
      "  df.skew()\n"
     ]
    },
    {
     "data": {
      "text/plain": [
       "ID                   -0.017027\n",
       "Class                -0.229379\n",
       "Subject               0.065280\n",
       "Attendance           -0.119411\n",
       "Cocurricular_score    0.182112\n",
       "CGPA                 -0.999630\n",
       "dtype: float64"
      ]
     },
     "execution_count": 84,
     "metadata": {},
     "output_type": "execute_result"
    }
   ],
   "source": [
    "df.skew()"
   ]
  },
  {
   "cell_type": "code",
   "execution_count": 85,
   "id": "6577d95d",
   "metadata": {},
   "outputs": [
    {
     "data": {
      "text/plain": [
       "<AxesSubplot:xlabel='CGPA', ylabel='Density'>"
      ]
     },
     "execution_count": 85,
     "metadata": {},
     "output_type": "execute_result"
    },
    {
     "data": {
      "image/png": "[encoded data removed]",
      "text/plain": [
       "<Figure size 432x288 with 1 Axes>"
      ]
     },
     "metadata": {
      "needs_background": "light"
     },
     "output_type": "display_data"
    }
   ],
   "source": [
    "sns.kdeplot(data = df, x='CGPA')"
   ]
  },
  {
   "cell_type": "markdown",
   "id": "00901ae5",
   "metadata": {},
   "source": [
    "### CGPA was negatively skewed"
   ]
  },
  {
   "cell_type": "code",
   "execution_count": 89,
   "id": "10dc7169",
   "metadata": {},
   "outputs": [],
   "source": [
    "df['CGPA'] = df['CGPA']**(4)"
   ]
  },
  {
   "cell_type": "code",
   "execution_count": 90,
   "id": "2cd996bb",
   "metadata": {},
   "outputs": [
    {
     "name": "stderr",
     "output_type": "stream",
     "text": [
      "<ipython-input-90-9e0b1e29546f>:1: FutureWarning: Dropping of nuisance columns in DataFrame reductions (with 'numeric_only=None') is deprecated; in a future version this will raise TypeError.  Select only valid columns before calling the reduction.\n",
      "  df.skew()\n"
     ]
    },
    {
     "data": {
      "text/plain": [
       "ID                   -0.017027\n",
       "Class                -0.229379\n",
       "Subject               0.065280\n",
       "Attendance           -0.119411\n",
       "Cocurricular_score    0.182112\n",
       "CGPA                 -0.043819\n",
       "dtype: float64"
      ]
     },
     "execution_count": 90,
     "metadata": {},
     "output_type": "execute_result"
    }
   ],
   "source": [
    "df.skew()"
   ]
  },
  {
   "cell_type": "code",
   "execution_count": 91,
   "id": "441faba0",
   "metadata": {},
   "outputs": [
    {
     "data": {
      "text/plain": [
       "<AxesSubplot:xlabel='CGPA', ylabel='Density'>"
      ]
     },
     "execution_count": 91,
     "metadata": {},
     "output_type": "execute_result"
    },
    {
     "data": {
      "image/png": "[encoded data removed]",
      "text/plain": [
       "<Figure size 432x288 with 1 Axes>"
      ]
     },
     "metadata": {
      "needs_background": "light"
     },
     "output_type": "display_data"
    }
   ],
   "source": [
    "sns.kdeplot(data = df, x='CGPA')"
   ]
  },
  {
   "cell_type": "code",
   "execution_count": null,
   "id": "78a5d705",
   "metadata": {},
   "outputs": [],
   "source": []
  }
 ],
 "metadata": {
  "kernelspec": {
   "display_name": "Python 3",
   "language": "python",
   "name": "python3"
  },
  "language_info": {
   "codemirror_mode": {
    "name": "ipython",
    "version": 3
   },
   "file_extension": ".py",
   "mimetype": "text/x-python",
   "name": "python",
   "nbconvert_exporter": "python",
   "pygments_lexer": "ipython3",
   "version": "3.8.6"
  }
 },
 "nbformat": 4,
 "nbformat_minor": 5
}
