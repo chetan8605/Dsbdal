{
 "cells": [
  {
   "cell_type": "code",
   "execution_count": 1,
   "id": "ed0043a6",
   "metadata": {},
   "outputs": [],
   "source": [
    "from nltk.tokenize import word_tokenize\n",
    "from nltk import pos_tag\n",
    "from nltk.stem import PorterStemmer\n",
    "from nltk.corpus import stopwords \n",
    "from nltk.stem import WordNetLemmatizer\n",
    "from sklearn.feature_extraction.text import TfidfVectorizer"
   ]
  },
  {
   "cell_type": "code",
   "execution_count": 2,
   "id": "7f459f39",
   "metadata": {},
   "outputs": [],
   "source": [
    "text = open(\"Text.txt\").read()"
   ]
  },
  {
   "cell_type": "code",
   "execution_count": 3,
   "id": "b42bf6ed",
   "metadata": {},
   "outputs": [
    {
     "data": {
      "text/plain": [
       "'Football is a family of team sports that involve, to varying degrees, kicking a ball to score a goal. Unqualified, the word football normally means the form of football that is the most popular where the word is used. Sports commonly called football include association football (known as soccer in North America, Ireland and Australia); gridiron football (specifically American football or Canadian football); Australian rules football; rugby union and rugby league; and Gaelic football. These various forms of football share to varying extents common origins and are known as \"football codes\".\\n\\nThere are a number of references to traditional, ancient, or prehistoric ball games played in many different parts of the world. Contemporary codes of football can be traced back to the codification of these games at English public schools during the 19th century. The expansion and cultural influence of the British Empire allowed these rules of football to spread to areas of British influence outside the directly controlled Empire. By the end of the 19th century, distinct regional codes were already developing: Gaelic football, for example, deliberately incorporated the rules of local traditional football games in order to maintain their heritage. In 1888, The Football League was founded in England, becoming the first of many professional football associations. During the 20th century, several of the various kinds of football grew to become some of the most popular team sports in the world.\\n'"
      ]
     },
     "execution_count": 3,
     "metadata": {},
     "output_type": "execute_result"
    }
   ],
   "source": [
    "text"
   ]
  },
  {
   "cell_type": "markdown",
   "id": "00f5ad5b",
   "metadata": {},
   "source": [
    "## Tokenization"
   ]
  },
  {
   "cell_type": "code",
   "execution_count": 4,
   "id": "ec2d8762",
   "metadata": {},
   "outputs": [],
   "source": [
    "tokens = word_tokenize(text)"
   ]
  },
  {
   "cell_type": "code",
   "execution_count": 5,
   "id": "d5cd141d",
   "metadata": {},
   "outputs": [
    {
     "name": "stdout",
     "output_type": "stream",
     "text": [
      "['Football', 'is', 'a', 'family', 'of', 'team', 'sports', 'that', 'involve', ',', 'to', 'varying', 'degrees', ',', 'kicking', 'a', 'ball', 'to', 'score', 'a', 'goal', '.', 'Unqualified', ',', 'the', 'word', 'football', 'normally', 'means', 'the', 'form', 'of', 'football', 'that', 'is', 'the', 'most', 'popular', 'where', 'the', 'word', 'is', 'used', '.', 'Sports', 'commonly', 'called', 'football', 'include', 'association', 'football', '(', 'known', 'as', 'soccer', 'in', 'North', 'America', ',', 'Ireland', 'and', 'Australia', ')', ';', 'gridiron', 'football', '(', 'specifically', 'American', 'football', 'or', 'Canadian', 'football', ')', ';', 'Australian', 'rules', 'football', ';', 'rugby', 'union', 'and', 'rugby', 'league', ';', 'and', 'Gaelic', 'football', '.', 'These', 'various', 'forms', 'of', 'football', 'share', 'to', 'varying', 'extents', 'common', 'origins', 'and', 'are', 'known', 'as', '``', 'football', 'codes', \"''\", '.', 'There', 'are', 'a', 'number', 'of', 'references', 'to', 'traditional', ',', 'ancient', ',', 'or', 'prehistoric', 'ball', 'games', 'played', 'in', 'many', 'different', 'parts', 'of', 'the', 'world', '.', 'Contemporary', 'codes', 'of', 'football', 'can', 'be', 'traced', 'back', 'to', 'the', 'codification', 'of', 'these', 'games', 'at', 'English', 'public', 'schools', 'during', 'the', '19th', 'century', '.', 'The', 'expansion', 'and', 'cultural', 'influence', 'of', 'the', 'British', 'Empire', 'allowed', 'these', 'rules', 'of', 'football', 'to', 'spread', 'to', 'areas', 'of', 'British', 'influence', 'outside', 'the', 'directly', 'controlled', 'Empire', '.', 'By', 'the', 'end', 'of', 'the', '19th', 'century', ',', 'distinct', 'regional', 'codes', 'were', 'already', 'developing', ':', 'Gaelic', 'football', ',', 'for', 'example', ',', 'deliberately', 'incorporated', 'the', 'rules', 'of', 'local', 'traditional', 'football', 'games', 'in', 'order', 'to', 'maintain', 'their', 'heritage', '.', 'In', '1888', ',', 'The', 'Football', 'League', 'was', 'founded', 'in', 'England', ',', 'becoming', 'the', 'first', 'of', 'many', 'professional', 'football', 'associations', '.', 'During', 'the', '20th', 'century', ',', 'several', 'of', 'the', 'various', 'kinds', 'of', 'football', 'grew', 'to', 'become', 'some', 'of', 'the', 'most', 'popular', 'team', 'sports', 'in', 'the', 'world', '.']\n"
     ]
    }
   ],
   "source": [
    "print(tokens)"
   ]
  },
  {
   "cell_type": "markdown",
   "id": "5bc01522",
   "metadata": {},
   "source": [
    "## POS Tagging"
   ]
  },
  {
   "cell_type": "code",
   "execution_count": 6,
   "id": "64a89797",
   "metadata": {},
   "outputs": [],
   "source": [
    "postags = pos_tag(tokens)"
   ]
  },
  {
   "cell_type": "code",
   "execution_count": 7,
   "id": "12d6629c",
   "metadata": {},
   "outputs": [
    {
     "name": "stdout",
     "output_type": "stream",
     "text": [
      "[('Football', 'NN'), ('is', 'VBZ'), ('a', 'DT'), ('family', 'NN'), ('of', 'IN'), ('team', 'NN'), ('sports', 'NNS'), ('that', 'WDT'), ('involve', 'VBP'), (',', ','), ('to', 'TO'), ('varying', 'VBG'), ('degrees', 'NNS'), (',', ','), ('kicking', 'VBG'), ('a', 'DT'), ('ball', 'NN'), ('to', 'TO'), ('score', 'VB'), ('a', 'DT'), ('goal', 'NN'), ('.', '.'), ('Unqualified', 'VBN'), (',', ','), ('the', 'DT'), ('word', 'NN'), ('football', 'NN'), ('normally', 'RB'), ('means', 'VBZ'), ('the', 'DT'), ('form', 'NN'), ('of', 'IN'), ('football', 'NN'), ('that', 'WDT'), ('is', 'VBZ'), ('the', 'DT'), ('most', 'RBS'), ('popular', 'JJ'), ('where', 'WRB'), ('the', 'DT'), ('word', 'NN'), ('is', 'VBZ'), ('used', 'VBN'), ('.', '.'), ('Sports', 'NNS'), ('commonly', 'RB'), ('called', 'VBD'), ('football', 'NN'), ('include', 'NN'), ('association', 'NN'), ('football', 'NN'), ('(', '('), ('known', 'VBN'), ('as', 'IN'), ('soccer', 'NN'), ('in', 'IN'), ('North', 'NNP'), ('America', 'NNP'), (',', ','), ('Ireland', 'NNP'), ('and', 'CC'), ('Australia', 'NNP'), (')', ')'), (';', ':'), ('gridiron', 'NN'), ('football', 'NN'), ('(', '('), ('specifically', 'RB'), ('American', 'NNP'), ('football', 'NN'), ('or', 'CC'), ('Canadian', 'JJ'), ('football', 'NN'), (')', ')'), (';', ':'), ('Australian', 'JJ'), ('rules', 'NNS'), ('football', 'NN'), (';', ':'), ('rugby', 'CC'), ('union', 'NN'), ('and', 'CC'), ('rugby', 'VB'), ('league', 'NN'), (';', ':'), ('and', 'CC'), ('Gaelic', 'NNP'), ('football', 'NN'), ('.', '.'), ('These', 'DT'), ('various', 'JJ'), ('forms', 'NNS'), ('of', 'IN'), ('football', 'NN'), ('share', 'NN'), ('to', 'TO'), ('varying', 'VBG'), ('extents', 'NNS'), ('common', 'JJ'), ('origins', 'NNS'), ('and', 'CC'), ('are', 'VBP'), ('known', 'VBN'), ('as', 'IN'), ('``', '``'), ('football', 'NN'), ('codes', 'NNS'), (\"''\", \"''\"), ('.', '.'), ('There', 'EX'), ('are', 'VBP'), ('a', 'DT'), ('number', 'NN'), ('of', 'IN'), ('references', 'NNS'), ('to', 'TO'), ('traditional', 'JJ'), (',', ','), ('ancient', 'JJ'), (',', ','), ('or', 'CC'), ('prehistoric', 'JJ'), ('ball', 'NN'), ('games', 'NNS'), ('played', 'VBD'), ('in', 'IN'), ('many', 'JJ'), ('different', 'JJ'), ('parts', 'NNS'), ('of', 'IN'), ('the', 'DT'), ('world', 'NN'), ('.', '.'), ('Contemporary', 'JJ'), ('codes', 'NNS'), ('of', 'IN'), ('football', 'NN'), ('can', 'MD'), ('be', 'VB'), ('traced', 'VBN'), ('back', 'RB'), ('to', 'TO'), ('the', 'DT'), ('codification', 'NN'), ('of', 'IN'), ('these', 'DT'), ('games', 'NNS'), ('at', 'IN'), ('English', 'NNP'), ('public', 'JJ'), ('schools', 'NNS'), ('during', 'IN'), ('the', 'DT'), ('19th', 'JJ'), ('century', 'NN'), ('.', '.'), ('The', 'DT'), ('expansion', 'NN'), ('and', 'CC'), ('cultural', 'JJ'), ('influence', 'NN'), ('of', 'IN'), ('the', 'DT'), ('British', 'JJ'), ('Empire', 'NN'), ('allowed', 'VBN'), ('these', 'DT'), ('rules', 'NNS'), ('of', 'IN'), ('football', 'NN'), ('to', 'TO'), ('spread', 'VB'), ('to', 'TO'), ('areas', 'NNS'), ('of', 'IN'), ('British', 'JJ'), ('influence', 'NN'), ('outside', 'IN'), ('the', 'DT'), ('directly', 'RB'), ('controlled', 'VBN'), ('Empire', 'NNP'), ('.', '.'), ('By', 'IN'), ('the', 'DT'), ('end', 'NN'), ('of', 'IN'), ('the', 'DT'), ('19th', 'JJ'), ('century', 'NN'), (',', ','), ('distinct', 'JJ'), ('regional', 'JJ'), ('codes', 'NNS'), ('were', 'VBD'), ('already', 'RB'), ('developing', 'VBG'), (':', ':'), ('Gaelic', 'NN'), ('football', 'NN'), (',', ','), ('for', 'IN'), ('example', 'NN'), (',', ','), ('deliberately', 'RB'), ('incorporated', 'VBN'), ('the', 'DT'), ('rules', 'NNS'), ('of', 'IN'), ('local', 'JJ'), ('traditional', 'JJ'), ('football', 'NN'), ('games', 'NNS'), ('in', 'IN'), ('order', 'NN'), ('to', 'TO'), ('maintain', 'VB'), ('their', 'PRP$'), ('heritage', 'NN'), ('.', '.'), ('In', 'IN'), ('1888', 'CD'), (',', ','), ('The', 'DT'), ('Football', 'NNP'), ('League', 'NNP'), ('was', 'VBD'), ('founded', 'VBN'), ('in', 'IN'), ('England', 'NNP'), (',', ','), ('becoming', 'VBG'), ('the', 'DT'), ('first', 'JJ'), ('of', 'IN'), ('many', 'JJ'), ('professional', 'JJ'), ('football', 'NN'), ('associations', 'NNS'), ('.', '.'), ('During', 'IN'), ('the', 'DT'), ('20th', 'JJ'), ('century', 'NN'), (',', ','), ('several', 'JJ'), ('of', 'IN'), ('the', 'DT'), ('various', 'JJ'), ('kinds', 'NNS'), ('of', 'IN'), ('football', 'NN'), ('grew', 'VBD'), ('to', 'TO'), ('become', 'VB'), ('some', 'DT'), ('of', 'IN'), ('the', 'DT'), ('most', 'RBS'), ('popular', 'JJ'), ('team', 'NN'), ('sports', 'NNS'), ('in', 'IN'), ('the', 'DT'), ('world', 'NN'), ('.', '.')]\n"
     ]
    }
   ],
   "source": [
    "print(postags)"
   ]
  },
  {
   "cell_type": "markdown",
   "id": "d56009bc",
   "metadata": {},
   "source": [
    "## Removing stop words"
   ]
  },
  {
   "cell_type": "code",
   "execution_count": 8,
   "id": "6b85f16d",
   "metadata": {},
   "outputs": [
    {
     "name": "stdout",
     "output_type": "stream",
     "text": [
      "{'needn', \"don't\", 'your', 'be', 'if', 'until', 'further', 'only', 'than', 'then', 'wouldn', 'him', 'ours', 'a', 'once', 'ain', 'some', 'against', 'won', 'll', 'theirs', 'shan', 'yourselves', \"mightn't\", 'all', \"wouldn't\", 'from', 'o', 'hadn', 'these', 'most', 'its', 'being', 'who', 'of', 'just', 'how', 'she', 'that', 'there', 'this', 'doesn', 'you', 'been', \"you've\", 'in', 'into', 're', 'are', 'such', 'about', 'over', \"haven't\", 'out', 'me', 'them', \"mustn't\", \"should've\", 'what', \"it's\", 'mustn', 'myself', 'didn', 'y', 'when', 'not', 'having', 'or', \"didn't\", 'couldn', 'so', 'weren', 'our', 'we', \"you're\", 'isn', 'have', 'because', 'more', 'while', 'hers', 'is', 'am', 'above', 'had', 'both', 'her', 't', 'should', \"she's\", \"you'd\", \"hadn't\", 'off', 'ourselves', \"shan't\", 'same', 'during', 'herself', 'here', 'nor', 'ma', 'does', 'under', 'for', 'aren', 'i', \"hasn't\", 've', 'my', \"wasn't\", 'where', 'his', 'between', \"won't\", 'did', 'hasn', 'their', 'with', 'each', 's', 'will', 'an', \"couldn't\", 'they', \"that'll\", 'now', 'as', 'were', 'to', 'before', 'shouldn', 'it', 'those', 'below', 'the', 'wasn', 'and', 'he', \"you'll\", 'very', \"needn't\", 'any', 'do', 'themselves', 'again', 'yourself', 'don', 'at', 'down', 'few', 'by', 'after', 'd', 'why', 'm', 'but', 'too', 'up', 'can', 'has', \"isn't\", 'yours', 'whom', 'mightn', \"shouldn't\", \"weren't\", \"doesn't\", 'other', \"aren't\", 'himself', 'haven', 'which', 'through', 'own', 'itself', 'doing', 'no', 'was', 'on'}\n"
     ]
    }
   ],
   "source": [
    "print(set(stopwords.words('english')))"
   ]
  },
  {
   "cell_type": "code",
   "execution_count": 9,
   "id": "aaa8416d",
   "metadata": {},
   "outputs": [],
   "source": [
    "stop_words = set(stopwords.words('english'))"
   ]
  },
  {
   "cell_type": "code",
   "execution_count": 10,
   "id": "2e6c7437",
   "metadata": {},
   "outputs": [
    {
     "name": "stdout",
     "output_type": "stream",
     "text": [
      "{'needn', \"don't\", 'your', 'be', 'if', 'until', 'further', 'only', 'than', 'then', 'wouldn', 'him', 'ours', 'a', 'once', 'ain', 'some', 'against', 'won', 'll', 'theirs', 'shan', 'yourselves', \"mightn't\", 'all', \"wouldn't\", 'from', 'o', 'hadn', 'these', 'most', 'its', 'being', 'who', 'of', 'just', 'how', 'she', 'that', 'there', 'this', 'doesn', 'you', 'been', \"you've\", 'in', 'into', 're', 'are', 'such', 'about', 'over', \"haven't\", 'out', 'me', 'them', \"mustn't\", \"should've\", 'what', \"it's\", 'mustn', 'myself', 'didn', 'y', 'when', 'not', 'having', 'or', \"didn't\", 'couldn', 'so', 'weren', 'our', 'we', \"you're\", 'isn', 'have', 'because', 'more', 'while', 'hers', 'is', 'am', 'above', 'had', 'both', 'her', 't', 'should', \"she's\", \"you'd\", \"hadn't\", 'off', 'ourselves', \"shan't\", 'same', 'during', 'herself', 'here', 'nor', 'ma', 'does', 'under', 'for', 'aren', 'i', \"hasn't\", 've', 'my', \"wasn't\", 'where', 'his', 'between', \"won't\", 'did', 'hasn', 'their', 'with', 'each', 's', 'will', 'an', \"couldn't\", 'they', \"that'll\", 'now', 'as', 'were', 'to', 'before', 'shouldn', 'it', 'those', 'below', 'the', 'wasn', 'and', 'he', \"you'll\", 'very', \"needn't\", 'any', 'do', 'themselves', 'again', 'yourself', 'don', 'at', 'down', 'few', 'by', 'after', 'd', 'why', 'm', 'but', 'too', 'up', 'can', 'has', \"isn't\", 'yours', 'whom', 'mightn', \"shouldn't\", \"weren't\", \"doesn't\", 'other', \"aren't\", 'himself', 'haven', 'which', 'through', 'own', 'itself', 'doing', 'no', 'was', 'on'}\n"
     ]
    }
   ],
   "source": [
    "print(stop_words)"
   ]
  },
  {
   "cell_type": "code",
   "execution_count": 11,
   "id": "d9df45db",
   "metadata": {},
   "outputs": [],
   "source": [
    "li = []\n",
    "for words in tokens:\n",
    "    if words not in stop_words:\n",
    "        li.append(words)"
   ]
  },
  {
   "cell_type": "code",
   "execution_count": 12,
   "id": "8c48e139",
   "metadata": {},
   "outputs": [
    {
     "name": "stdout",
     "output_type": "stream",
     "text": [
      "['Football', 'family', 'team', 'sports', 'involve', ',', 'varying', 'degrees', ',', 'kicking', 'ball', 'score', 'goal', '.', 'Unqualified', ',', 'word', 'football', 'normally', 'means', 'form', 'football', 'popular', 'word', 'used', '.', 'Sports', 'commonly', 'called', 'football', 'include', 'association', 'football', '(', 'known', 'soccer', 'North', 'America', ',', 'Ireland', 'Australia', ')', ';', 'gridiron', 'football', '(', 'specifically', 'American', 'football', 'Canadian', 'football', ')', ';', 'Australian', 'rules', 'football', ';', 'rugby', 'union', 'rugby', 'league', ';', 'Gaelic', 'football', '.', 'These', 'various', 'forms', 'football', 'share', 'varying', 'extents', 'common', 'origins', 'known', '``', 'football', 'codes', \"''\", '.', 'There', 'number', 'references', 'traditional', ',', 'ancient', ',', 'prehistoric', 'ball', 'games', 'played', 'many', 'different', 'parts', 'world', '.', 'Contemporary', 'codes', 'football', 'traced', 'back', 'codification', 'games', 'English', 'public', 'schools', '19th', 'century', '.', 'The', 'expansion', 'cultural', 'influence', 'British', 'Empire', 'allowed', 'rules', 'football', 'spread', 'areas', 'British', 'influence', 'outside', 'directly', 'controlled', 'Empire', '.', 'By', 'end', '19th', 'century', ',', 'distinct', 'regional', 'codes', 'already', 'developing', ':', 'Gaelic', 'football', ',', 'example', ',', 'deliberately', 'incorporated', 'rules', 'local', 'traditional', 'football', 'games', 'order', 'maintain', 'heritage', '.', 'In', '1888', ',', 'The', 'Football', 'League', 'founded', 'England', ',', 'becoming', 'first', 'many', 'professional', 'football', 'associations', '.', 'During', '20th', 'century', ',', 'several', 'various', 'kinds', 'football', 'grew', 'become', 'popular', 'team', 'sports', 'world', '.']\n"
     ]
    }
   ],
   "source": [
    "print(li)"
   ]
  },
  {
   "cell_type": "markdown",
   "id": "b86204ea",
   "metadata": {},
   "source": [
    "## Stemming"
   ]
  },
  {
   "cell_type": "code",
   "execution_count": 13,
   "id": "0458890c",
   "metadata": {},
   "outputs": [],
   "source": [
    "ps = PorterStemmer()"
   ]
  },
  {
   "cell_type": "code",
   "execution_count": 14,
   "id": "56abe698",
   "metadata": {},
   "outputs": [],
   "source": [
    "stemlist = []\n",
    "for words in li:\n",
    "    stemlist.append([words, ps.stem(words)])"
   ]
  },
  {
   "cell_type": "code",
   "execution_count": 15,
   "id": "cc392606",
   "metadata": {},
   "outputs": [
    {
     "name": "stdout",
     "output_type": "stream",
     "text": [
      "[['Football', 'footbal'], ['family', 'famili'], ['team', 'team'], ['sports', 'sport'], ['involve', 'involv'], [',', ','], ['varying', 'vari'], ['degrees', 'degre'], [',', ','], ['kicking', 'kick'], ['ball', 'ball'], ['score', 'score'], ['goal', 'goal'], ['.', '.'], ['Unqualified', 'unqualifi'], [',', ','], ['word', 'word'], ['football', 'footbal'], ['normally', 'normal'], ['means', 'mean'], ['form', 'form'], ['football', 'footbal'], ['popular', 'popular'], ['word', 'word'], ['used', 'use'], ['.', '.'], ['Sports', 'sport'], ['commonly', 'commonli'], ['called', 'call'], ['football', 'footbal'], ['include', 'includ'], ['association', 'associ'], ['football', 'footbal'], ['(', '('], ['known', 'known'], ['soccer', 'soccer'], ['North', 'north'], ['America', 'america'], [',', ','], ['Ireland', 'ireland'], ['Australia', 'australia'], [')', ')'], [';', ';'], ['gridiron', 'gridiron'], ['football', 'footbal'], ['(', '('], ['specifically', 'specif'], ['American', 'american'], ['football', 'footbal'], ['Canadian', 'canadian'], ['football', 'footbal'], [')', ')'], [';', ';'], ['Australian', 'australian'], ['rules', 'rule'], ['football', 'footbal'], [';', ';'], ['rugby', 'rugbi'], ['union', 'union'], ['rugby', 'rugbi'], ['league', 'leagu'], [';', ';'], ['Gaelic', 'gaelic'], ['football', 'footbal'], ['.', '.'], ['These', 'these'], ['various', 'variou'], ['forms', 'form'], ['football', 'footbal'], ['share', 'share'], ['varying', 'vari'], ['extents', 'extent'], ['common', 'common'], ['origins', 'origin'], ['known', 'known'], ['``', '``'], ['football', 'footbal'], ['codes', 'code'], [\"''\", \"''\"], ['.', '.'], ['There', 'there'], ['number', 'number'], ['references', 'refer'], ['traditional', 'tradit'], [',', ','], ['ancient', 'ancient'], [',', ','], ['prehistoric', 'prehistor'], ['ball', 'ball'], ['games', 'game'], ['played', 'play'], ['many', 'mani'], ['different', 'differ'], ['parts', 'part'], ['world', 'world'], ['.', '.'], ['Contemporary', 'contemporari'], ['codes', 'code'], ['football', 'footbal'], ['traced', 'trace'], ['back', 'back'], ['codification', 'codif'], ['games', 'game'], ['English', 'english'], ['public', 'public'], ['schools', 'school'], ['19th', '19th'], ['century', 'centuri'], ['.', '.'], ['The', 'the'], ['expansion', 'expans'], ['cultural', 'cultur'], ['influence', 'influenc'], ['British', 'british'], ['Empire', 'empir'], ['allowed', 'allow'], ['rules', 'rule'], ['football', 'footbal'], ['spread', 'spread'], ['areas', 'area'], ['British', 'british'], ['influence', 'influenc'], ['outside', 'outsid'], ['directly', 'directli'], ['controlled', 'control'], ['Empire', 'empir'], ['.', '.'], ['By', 'by'], ['end', 'end'], ['19th', '19th'], ['century', 'centuri'], [',', ','], ['distinct', 'distinct'], ['regional', 'region'], ['codes', 'code'], ['already', 'alreadi'], ['developing', 'develop'], [':', ':'], ['Gaelic', 'gaelic'], ['football', 'footbal'], [',', ','], ['example', 'exampl'], [',', ','], ['deliberately', 'deliber'], ['incorporated', 'incorpor'], ['rules', 'rule'], ['local', 'local'], ['traditional', 'tradit'], ['football', 'footbal'], ['games', 'game'], ['order', 'order'], ['maintain', 'maintain'], ['heritage', 'heritag'], ['.', '.'], ['In', 'in'], ['1888', '1888'], [',', ','], ['The', 'the'], ['Football', 'footbal'], ['League', 'leagu'], ['founded', 'found'], ['England', 'england'], [',', ','], ['becoming', 'becom'], ['first', 'first'], ['many', 'mani'], ['professional', 'profession'], ['football', 'footbal'], ['associations', 'associ'], ['.', '.'], ['During', 'dure'], ['20th', '20th'], ['century', 'centuri'], [',', ','], ['several', 'sever'], ['various', 'variou'], ['kinds', 'kind'], ['football', 'footbal'], ['grew', 'grew'], ['become', 'becom'], ['popular', 'popular'], ['team', 'team'], ['sports', 'sport'], ['world', 'world'], ['.', '.']]\n"
     ]
    }
   ],
   "source": [
    "print(stemlist)"
   ]
  },
  {
   "cell_type": "markdown",
   "id": "ae02efd0",
   "metadata": {},
   "source": [
    "## Lemmitization"
   ]
  },
  {
   "cell_type": "code",
   "execution_count": 16,
   "id": "929b6c61",
   "metadata": {},
   "outputs": [],
   "source": [
    "wl = WordNetLemmatizer()"
   ]
  },
  {
   "cell_type": "code",
   "execution_count": 17,
   "id": "a6eb5d44",
   "metadata": {},
   "outputs": [],
   "source": [
    "lemilist = []\n",
    "for words in li:\n",
    "    lemilist.append([words, wl.lemmatize(words)])"
   ]
  },
  {
   "cell_type": "code",
   "execution_count": 18,
   "id": "39780f96",
   "metadata": {},
   "outputs": [
    {
     "name": "stdout",
     "output_type": "stream",
     "text": [
      "[['Football', 'Football'], ['family', 'family'], ['team', 'team'], ['sports', 'sport'], ['involve', 'involve'], [',', ','], ['varying', 'varying'], ['degrees', 'degree'], [',', ','], ['kicking', 'kicking'], ['ball', 'ball'], ['score', 'score'], ['goal', 'goal'], ['.', '.'], ['Unqualified', 'Unqualified'], [',', ','], ['word', 'word'], ['football', 'football'], ['normally', 'normally'], ['means', 'mean'], ['form', 'form'], ['football', 'football'], ['popular', 'popular'], ['word', 'word'], ['used', 'used'], ['.', '.'], ['Sports', 'Sports'], ['commonly', 'commonly'], ['called', 'called'], ['football', 'football'], ['include', 'include'], ['association', 'association'], ['football', 'football'], ['(', '('], ['known', 'known'], ['soccer', 'soccer'], ['North', 'North'], ['America', 'America'], [',', ','], ['Ireland', 'Ireland'], ['Australia', 'Australia'], [')', ')'], [';', ';'], ['gridiron', 'gridiron'], ['football', 'football'], ['(', '('], ['specifically', 'specifically'], ['American', 'American'], ['football', 'football'], ['Canadian', 'Canadian'], ['football', 'football'], [')', ')'], [';', ';'], ['Australian', 'Australian'], ['rules', 'rule'], ['football', 'football'], [';', ';'], ['rugby', 'rugby'], ['union', 'union'], ['rugby', 'rugby'], ['league', 'league'], [';', ';'], ['Gaelic', 'Gaelic'], ['football', 'football'], ['.', '.'], ['These', 'These'], ['various', 'various'], ['forms', 'form'], ['football', 'football'], ['share', 'share'], ['varying', 'varying'], ['extents', 'extent'], ['common', 'common'], ['origins', 'origin'], ['known', 'known'], ['``', '``'], ['football', 'football'], ['codes', 'code'], [\"''\", \"''\"], ['.', '.'], ['There', 'There'], ['number', 'number'], ['references', 'reference'], ['traditional', 'traditional'], [',', ','], ['ancient', 'ancient'], [',', ','], ['prehistoric', 'prehistoric'], ['ball', 'ball'], ['games', 'game'], ['played', 'played'], ['many', 'many'], ['different', 'different'], ['parts', 'part'], ['world', 'world'], ['.', '.'], ['Contemporary', 'Contemporary'], ['codes', 'code'], ['football', 'football'], ['traced', 'traced'], ['back', 'back'], ['codification', 'codification'], ['games', 'game'], ['English', 'English'], ['public', 'public'], ['schools', 'school'], ['19th', '19th'], ['century', 'century'], ['.', '.'], ['The', 'The'], ['expansion', 'expansion'], ['cultural', 'cultural'], ['influence', 'influence'], ['British', 'British'], ['Empire', 'Empire'], ['allowed', 'allowed'], ['rules', 'rule'], ['football', 'football'], ['spread', 'spread'], ['areas', 'area'], ['British', 'British'], ['influence', 'influence'], ['outside', 'outside'], ['directly', 'directly'], ['controlled', 'controlled'], ['Empire', 'Empire'], ['.', '.'], ['By', 'By'], ['end', 'end'], ['19th', '19th'], ['century', 'century'], [',', ','], ['distinct', 'distinct'], ['regional', 'regional'], ['codes', 'code'], ['already', 'already'], ['developing', 'developing'], [':', ':'], ['Gaelic', 'Gaelic'], ['football', 'football'], [',', ','], ['example', 'example'], [',', ','], ['deliberately', 'deliberately'], ['incorporated', 'incorporated'], ['rules', 'rule'], ['local', 'local'], ['traditional', 'traditional'], ['football', 'football'], ['games', 'game'], ['order', 'order'], ['maintain', 'maintain'], ['heritage', 'heritage'], ['.', '.'], ['In', 'In'], ['1888', '1888'], [',', ','], ['The', 'The'], ['Football', 'Football'], ['League', 'League'], ['founded', 'founded'], ['England', 'England'], [',', ','], ['becoming', 'becoming'], ['first', 'first'], ['many', 'many'], ['professional', 'professional'], ['football', 'football'], ['associations', 'association'], ['.', '.'], ['During', 'During'], ['20th', '20th'], ['century', 'century'], [',', ','], ['several', 'several'], ['various', 'various'], ['kinds', 'kind'], ['football', 'football'], ['grew', 'grew'], ['become', 'become'], ['popular', 'popular'], ['team', 'team'], ['sports', 'sport'], ['world', 'world'], ['.', '.']]\n"
     ]
    }
   ],
   "source": [
    "print(lemilist)"
   ]
  },
  {
   "cell_type": "markdown",
   "id": "40b84833",
   "metadata": {},
   "source": [
    "## Term Frequency"
   ]
  },
  {
   "cell_type": "code",
   "execution_count": 19,
   "id": "c1984f0e",
   "metadata": {},
   "outputs": [],
   "source": [
    "fre = dict()\n",
    "for words in li:\n",
    "    if words in fre:\n",
    "        fre[words] += 1\n",
    "    else:\n",
    "        fre[words] = 1"
   ]
  },
  {
   "cell_type": "code",
   "execution_count": 20,
   "id": "b6bed632",
   "metadata": {},
   "outputs": [
    {
     "name": "stdout",
     "output_type": "stream",
     "text": [
      "{'Football': 2, 'family': 1, 'team': 2, 'sports': 2, 'involve': 1, ',': 12, 'varying': 2, 'degrees': 1, 'kicking': 1, 'ball': 2, 'score': 1, 'goal': 1, '.': 10, 'Unqualified': 1, 'word': 2, 'football': 17, 'normally': 1, 'means': 1, 'form': 1, 'popular': 2, 'used': 1, 'Sports': 1, 'commonly': 1, 'called': 1, 'include': 1, 'association': 1, '(': 2, 'known': 2, 'soccer': 1, 'North': 1, 'America': 1, 'Ireland': 1, 'Australia': 1, ')': 2, ';': 4, 'gridiron': 1, 'specifically': 1, 'American': 1, 'Canadian': 1, 'Australian': 1, 'rules': 3, 'rugby': 2, 'union': 1, 'league': 1, 'Gaelic': 2, 'These': 1, 'various': 2, 'forms': 1, 'share': 1, 'extents': 1, 'common': 1, 'origins': 1, '``': 1, 'codes': 3, \"''\": 1, 'There': 1, 'number': 1, 'references': 1, 'traditional': 2, 'ancient': 1, 'prehistoric': 1, 'games': 3, 'played': 1, 'many': 2, 'different': 1, 'parts': 1, 'world': 2, 'Contemporary': 1, 'traced': 1, 'back': 1, 'codification': 1, 'English': 1, 'public': 1, 'schools': 1, '19th': 2, 'century': 3, 'The': 2, 'expansion': 1, 'cultural': 1, 'influence': 2, 'British': 2, 'Empire': 2, 'allowed': 1, 'spread': 1, 'areas': 1, 'outside': 1, 'directly': 1, 'controlled': 1, 'By': 1, 'end': 1, 'distinct': 1, 'regional': 1, 'already': 1, 'developing': 1, ':': 1, 'example': 1, 'deliberately': 1, 'incorporated': 1, 'local': 1, 'order': 1, 'maintain': 1, 'heritage': 1, 'In': 1, '1888': 1, 'League': 1, 'founded': 1, 'England': 1, 'becoming': 1, 'first': 1, 'professional': 1, 'associations': 1, 'During': 1, '20th': 1, 'several': 1, 'kinds': 1, 'grew': 1, 'become': 1}\n"
     ]
    }
   ],
   "source": [
    "print(fre)"
   ]
  },
  {
   "cell_type": "markdown",
   "id": "aaabf01e",
   "metadata": {},
   "source": [
    "## Inverse document frequency"
   ]
  },
  {
   "cell_type": "code",
   "execution_count": 22,
   "id": "5662c8fa",
   "metadata": {},
   "outputs": [
    {
     "name": "stdout",
     "output_type": "stream",
     "text": [
      "  (0, 45)\t1.0\n",
      "  (1, 43)\t1.0\n",
      "  (2, 93)\t1.0\n",
      "  (3, 91)\t1.0\n",
      "  (4, 59)\t1.0\n",
      "  (6, 103)\t1.0\n",
      "  (7, 29)\t1.0\n",
      "  (9, 61)\t1.0\n",
      "  (10, 14)\t1.0\n",
      "  (11, 86)\t1.0\n",
      "  (12, 51)\t1.0\n",
      "  (14, 100)\t1.0\n",
      "  (16, 104)\t1.0\n",
      "  (17, 45)\t1.0\n",
      "  (18, 69)\t1.0\n",
      "  (19, 68)\t1.0\n",
      "  (20, 46)\t1.0\n",
      "  (21, 45)\t1.0\n",
      "  (22, 77)\t1.0\n",
      "  (23, 104)\t1.0\n",
      "  (24, 101)\t1.0\n",
      "  (26, 91)\t1.0\n",
      "  (27, 25)\t1.0\n",
      "  (28, 19)\t1.0\n",
      "  (29, 45)\t1.0\n",
      "  :\t:\n",
      "  (155, 0)\t1.0\n",
      "  (157, 94)\t1.0\n",
      "  (158, 45)\t1.0\n",
      "  (159, 64)\t1.0\n",
      "  (160, 48)\t1.0\n",
      "  (161, 38)\t1.0\n",
      "  (163, 16)\t1.0\n",
      "  (164, 44)\t1.0\n",
      "  (165, 67)\t1.0\n",
      "  (166, 79)\t1.0\n",
      "  (167, 45)\t1.0\n",
      "  (168, 10)\t1.0\n",
      "  (170, 35)\t1.0\n",
      "  (171, 2)\t1.0\n",
      "  (172, 21)\t1.0\n",
      "  (174, 87)\t1.0\n",
      "  (175, 102)\t1.0\n",
      "  (176, 62)\t1.0\n",
      "  (177, 45)\t1.0\n",
      "  (178, 52)\t1.0\n",
      "  (179, 15)\t1.0\n",
      "  (180, 77)\t1.0\n",
      "  (181, 93)\t1.0\n",
      "  (182, 91)\t1.0\n",
      "  (183, 105)\t1.0\n"
     ]
    }
   ],
   "source": [
    "tfidf = TfidfVectorizer()\n",
    "result = tfidf.fit_transform(li)\n",
    "print(result)"
   ]
  }
 ],
 "metadata": {
  "kernelspec": {
   "display_name": "Python 3",
   "language": "python",
   "name": "python3"
  },
  "language_info": {
   "codemirror_mode": {
    "name": "ipython",
    "version": 3
   },
   "file_extension": ".py",
   "mimetype": "text/x-python",
   "name": "python",
   "nbconvert_exporter": "python",
   "pygments_lexer": "ipython3",
   "version": "3.8.6"
  }
 },
 "nbformat": 4,
 "nbformat_minor": 5
}
