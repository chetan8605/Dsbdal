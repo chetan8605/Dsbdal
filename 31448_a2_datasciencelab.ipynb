{
 "cells": [
  {
   "cell_type": "code",
   "execution_count": 1,
   "id": "7aee45ad",
   "metadata": {},
   "outputs": [],
   "source": [
    "import pandas as pd\n",
    "import numpy as np"
   ]
  },
  {
   "cell_type": "code",
   "execution_count": 2,
   "id": "695fdc6a",
   "metadata": {},
   "outputs": [],
   "source": [
    "df=pd.read_csv(\"Academic Performance.csv\")"
   ]
  },
  {
   "cell_type": "code",
   "execution_count": 3,
   "id": "f68afc62",
   "metadata": {},
   "outputs": [
    {
     "data": {
      "text/html": [
       "<div>\n",
       "<style scoped>\n",
       "    .dataframe tbody tr th:only-of-type {\n",
       "        vertical-align: middle;\n",
       "    }\n",
       "\n",
       "    .dataframe tbody tr th {\n",
       "        vertical-align: top;\n",
       "    }\n",
       "\n",
       "    .dataframe thead th {\n",
       "        text-align: right;\n",
       "    }\n",
       "</style>\n",
       "<table border=\"1\" class=\"dataframe\">\n",
       "  <thead>\n",
       "    <tr style=\"text-align: right;\">\n",
       "      <th></th>\n",
       "      <th>Roll no</th>\n",
       "      <th>Name</th>\n",
       "      <th>Subjects</th>\n",
       "      <th>DSA</th>\n",
       "      <th>OS</th>\n",
       "      <th>DBMS</th>\n",
       "      <th>CN</th>\n",
       "      <th>Data Science</th>\n",
       "      <th>Percentage</th>\n",
       "      <th>Department</th>\n",
       "      <th>Attendance</th>\n",
       "      <th>Gender</th>\n",
       "    </tr>\n",
       "  </thead>\n",
       "  <tbody>\n",
       "    <tr>\n",
       "      <th>0</th>\n",
       "      <td>31101</td>\n",
       "      <td>Aditya</td>\n",
       "      <td>5</td>\n",
       "      <td>91</td>\n",
       "      <td>87</td>\n",
       "      <td>90</td>\n",
       "      <td>99</td>\n",
       "      <td>77.0</td>\n",
       "      <td>94</td>\n",
       "      <td>Comp</td>\n",
       "      <td>80</td>\n",
       "      <td>Male</td>\n",
       "    </tr>\n",
       "    <tr>\n",
       "      <th>1</th>\n",
       "      <td>31102</td>\n",
       "      <td>Ajinkya</td>\n",
       "      <td>5</td>\n",
       "      <td>89</td>\n",
       "      <td>89</td>\n",
       "      <td>79</td>\n",
       "      <td>93</td>\n",
       "      <td>89.0</td>\n",
       "      <td>89</td>\n",
       "      <td>Comp</td>\n",
       "      <td>90</td>\n",
       "      <td>Male</td>\n",
       "    </tr>\n",
       "    <tr>\n",
       "      <th>2</th>\n",
       "      <td>31103</td>\n",
       "      <td>Amit</td>\n",
       "      <td>5</td>\n",
       "      <td>95</td>\n",
       "      <td>81</td>\n",
       "      <td>66</td>\n",
       "      <td>2</td>\n",
       "      <td>81.0</td>\n",
       "      <td>88</td>\n",
       "      <td>Comp</td>\n",
       "      <td>79</td>\n",
       "      <td>Male</td>\n",
       "    </tr>\n",
       "    <tr>\n",
       "      <th>3</th>\n",
       "      <td>31104</td>\n",
       "      <td>Chetan</td>\n",
       "      <td>5</td>\n",
       "      <td>85</td>\n",
       "      <td>96</td>\n",
       "      <td>82</td>\n",
       "      <td>86</td>\n",
       "      <td>96.0</td>\n",
       "      <td>87</td>\n",
       "      <td>Comp</td>\n",
       "      <td>66</td>\n",
       "      <td>Male</td>\n",
       "    </tr>\n",
       "    <tr>\n",
       "      <th>4</th>\n",
       "      <td>31105</td>\n",
       "      <td>Chaitanya</td>\n",
       "      <td>5</td>\n",
       "      <td>80</td>\n",
       "      <td>70</td>\n",
       "      <td>75</td>\n",
       "      <td>83</td>\n",
       "      <td>70.0</td>\n",
       "      <td>85</td>\n",
       "      <td>Comp</td>\n",
       "      <td>82</td>\n",
       "      <td>Male</td>\n",
       "    </tr>\n",
       "  </tbody>\n",
       "</table>\n",
       "</div>"
      ],
      "text/plain": [
       "   Roll no       Name  Subjects  DSA  OS  DBMS  CN  Data Science  Percentage  \\\n",
       "0    31101     Aditya         5   91  87    90  99          77.0          94   \n",
       "1    31102    Ajinkya         5   89  89    79  93          89.0          89   \n",
       "2    31103       Amit         5   95  81    66   2          81.0          88   \n",
       "3    31104     Chetan         5   85  96    82  86          96.0          87   \n",
       "4    31105  Chaitanya         5   80  70    75  83          70.0          85   \n",
       "\n",
       "  Department  Attendance Gender  \n",
       "0       Comp          80   Male  \n",
       "1       Comp          90   Male  \n",
       "2       Comp          79   Male  \n",
       "3       Comp          66   Male  \n",
       "4       Comp          82   Male  "
      ]
     },
     "execution_count": 3,
     "metadata": {},
     "output_type": "execute_result"
    }
   ],
   "source": [
    "df.head()"
   ]
  },
  {
   "cell_type": "code",
   "execution_count": 4,
   "id": "3202223a",
   "metadata": {},
   "outputs": [
    {
     "data": {
      "text/plain": [
       "Roll no         0\n",
       "Name            0\n",
       "Subjects        0\n",
       "DSA             0\n",
       "OS              0\n",
       "DBMS            0\n",
       "CN              0\n",
       "Data Science    4\n",
       "Percentage      0\n",
       "Department      0\n",
       "Attendance      0\n",
       "Gender          0\n",
       "dtype: int64"
      ]
     },
     "execution_count": 4,
     "metadata": {},
     "output_type": "execute_result"
    }
   ],
   "source": [
    "df.isna().sum()"
   ]
  },
  {
   "cell_type": "code",
   "execution_count": 5,
   "id": "9ff5227a",
   "metadata": {},
   "outputs": [
    {
     "data": {
      "text/html": [
       "<div>\n",
       "<style scoped>\n",
       "    .dataframe tbody tr th:only-of-type {\n",
       "        vertical-align: middle;\n",
       "    }\n",
       "\n",
       "    .dataframe tbody tr th {\n",
       "        vertical-align: top;\n",
       "    }\n",
       "\n",
       "    .dataframe thead th {\n",
       "        text-align: right;\n",
       "    }\n",
       "</style>\n",
       "<table border=\"1\" class=\"dataframe\">\n",
       "  <thead>\n",
       "    <tr style=\"text-align: right;\">\n",
       "      <th></th>\n",
       "      <th>Roll no</th>\n",
       "      <th>Name</th>\n",
       "      <th>Subjects</th>\n",
       "      <th>DSA</th>\n",
       "      <th>OS</th>\n",
       "      <th>DBMS</th>\n",
       "      <th>CN</th>\n",
       "      <th>Data Science</th>\n",
       "      <th>Percentage</th>\n",
       "      <th>Department</th>\n",
       "      <th>Attendance</th>\n",
       "      <th>Gender</th>\n",
       "    </tr>\n",
       "  </thead>\n",
       "  <tbody>\n",
       "    <tr>\n",
       "      <th>0</th>\n",
       "      <td>31101</td>\n",
       "      <td>Aditya</td>\n",
       "      <td>5</td>\n",
       "      <td>91</td>\n",
       "      <td>87</td>\n",
       "      <td>90</td>\n",
       "      <td>99</td>\n",
       "      <td>77.0</td>\n",
       "      <td>94</td>\n",
       "      <td>Comp</td>\n",
       "      <td>80</td>\n",
       "      <td>Male</td>\n",
       "    </tr>\n",
       "    <tr>\n",
       "      <th>1</th>\n",
       "      <td>31102</td>\n",
       "      <td>Ajinkya</td>\n",
       "      <td>5</td>\n",
       "      <td>89</td>\n",
       "      <td>89</td>\n",
       "      <td>79</td>\n",
       "      <td>93</td>\n",
       "      <td>89.0</td>\n",
       "      <td>89</td>\n",
       "      <td>Comp</td>\n",
       "      <td>90</td>\n",
       "      <td>Male</td>\n",
       "    </tr>\n",
       "    <tr>\n",
       "      <th>2</th>\n",
       "      <td>31103</td>\n",
       "      <td>Amit</td>\n",
       "      <td>5</td>\n",
       "      <td>95</td>\n",
       "      <td>81</td>\n",
       "      <td>66</td>\n",
       "      <td>2</td>\n",
       "      <td>81.0</td>\n",
       "      <td>88</td>\n",
       "      <td>Comp</td>\n",
       "      <td>79</td>\n",
       "      <td>Male</td>\n",
       "    </tr>\n",
       "    <tr>\n",
       "      <th>3</th>\n",
       "      <td>31104</td>\n",
       "      <td>Chetan</td>\n",
       "      <td>5</td>\n",
       "      <td>85</td>\n",
       "      <td>96</td>\n",
       "      <td>82</td>\n",
       "      <td>86</td>\n",
       "      <td>96.0</td>\n",
       "      <td>87</td>\n",
       "      <td>Comp</td>\n",
       "      <td>66</td>\n",
       "      <td>Male</td>\n",
       "    </tr>\n",
       "    <tr>\n",
       "      <th>4</th>\n",
       "      <td>31105</td>\n",
       "      <td>Chaitanya</td>\n",
       "      <td>5</td>\n",
       "      <td>80</td>\n",
       "      <td>70</td>\n",
       "      <td>75</td>\n",
       "      <td>83</td>\n",
       "      <td>70.0</td>\n",
       "      <td>85</td>\n",
       "      <td>Comp</td>\n",
       "      <td>82</td>\n",
       "      <td>Male</td>\n",
       "    </tr>\n",
       "  </tbody>\n",
       "</table>\n",
       "</div>"
      ],
      "text/plain": [
       "   Roll no       Name  Subjects  DSA  OS  DBMS  CN  Data Science  Percentage  \\\n",
       "0    31101     Aditya         5   91  87    90  99          77.0          94   \n",
       "1    31102    Ajinkya         5   89  89    79  93          89.0          89   \n",
       "2    31103       Amit         5   95  81    66   2          81.0          88   \n",
       "3    31104     Chetan         5   85  96    82  86          96.0          87   \n",
       "4    31105  Chaitanya         5   80  70    75  83          70.0          85   \n",
       "\n",
       "  Department  Attendance Gender  \n",
       "0       Comp          80   Male  \n",
       "1       Comp          90   Male  \n",
       "2       Comp          79   Male  \n",
       "3       Comp          66   Male  \n",
       "4       Comp          82   Male  "
      ]
     },
     "execution_count": 5,
     "metadata": {},
     "output_type": "execute_result"
    }
   ],
   "source": [
    "df1=df.copy()\n",
    "df.head()"
   ]
  },
  {
   "cell_type": "code",
   "execution_count": 6,
   "id": "7dfe6959",
   "metadata": {},
   "outputs": [],
   "source": [
    "mean_ds=df1['Data Science'].mean()\n",
    "df1['Data Science'].fillna(mean_ds,inplace=True)"
   ]
  },
  {
   "cell_type": "code",
   "execution_count": 7,
   "id": "846d2ec5",
   "metadata": {},
   "outputs": [
    {
     "data": {
      "text/plain": [
       "Roll no         0\n",
       "Name            0\n",
       "Subjects        0\n",
       "DSA             0\n",
       "OS              0\n",
       "DBMS            0\n",
       "CN              0\n",
       "Data Science    0\n",
       "Percentage      0\n",
       "Department      0\n",
       "Attendance      0\n",
       "Gender          0\n",
       "dtype: int64"
      ]
     },
     "execution_count": 7,
     "metadata": {},
     "output_type": "execute_result"
    }
   ],
   "source": [
    "df1.isnull().sum()"
   ]
  },
  {
   "cell_type": "code",
   "execution_count": 8,
   "id": "d880a043",
   "metadata": {},
   "outputs": [
    {
     "data": {
      "text/plain": [
       "Roll no           int64\n",
       "Name             object\n",
       "Subjects          int64\n",
       "DSA               int64\n",
       "OS                int64\n",
       "DBMS              int64\n",
       "CN                int64\n",
       "Data Science    float64\n",
       "Percentage        int64\n",
       "Department       object\n",
       "Attendance        int64\n",
       "Gender           object\n",
       "dtype: object"
      ]
     },
     "execution_count": 8,
     "metadata": {},
     "output_type": "execute_result"
    }
   ],
   "source": [
    "df1.dtypes"
   ]
  },
  {
   "cell_type": "code",
   "execution_count": 9,
   "id": "a5914e44",
   "metadata": {},
   "outputs": [],
   "source": [
    "df1 = df1.astype({\"Data Science\":int})"
   ]
  },
  {
   "cell_type": "code",
   "execution_count": 10,
   "id": "60c958ca",
   "metadata": {},
   "outputs": [
    {
     "data": {
      "text/plain": [
       "Roll no          int64\n",
       "Name            object\n",
       "Subjects         int64\n",
       "DSA              int64\n",
       "OS               int64\n",
       "DBMS             int64\n",
       "CN               int64\n",
       "Data Science     int32\n",
       "Percentage       int64\n",
       "Department      object\n",
       "Attendance       int64\n",
       "Gender          object\n",
       "dtype: object"
      ]
     },
     "execution_count": 10,
     "metadata": {},
     "output_type": "execute_result"
    }
   ],
   "source": [
    "df1.dtypes"
   ]
  },
  {
   "cell_type": "code",
   "execution_count": 11,
   "id": "592144b6",
   "metadata": {},
   "outputs": [
    {
     "data": {
      "text/html": [
       "<div>\n",
       "<style scoped>\n",
       "    .dataframe tbody tr th:only-of-type {\n",
       "        vertical-align: middle;\n",
       "    }\n",
       "\n",
       "    .dataframe tbody tr th {\n",
       "        vertical-align: top;\n",
       "    }\n",
       "\n",
       "    .dataframe thead th {\n",
       "        text-align: right;\n",
       "    }\n",
       "</style>\n",
       "<table border=\"1\" class=\"dataframe\">\n",
       "  <thead>\n",
       "    <tr style=\"text-align: right;\">\n",
       "      <th></th>\n",
       "      <th>Roll no</th>\n",
       "      <th>Name</th>\n",
       "      <th>Subjects</th>\n",
       "      <th>DSA</th>\n",
       "      <th>OS</th>\n",
       "      <th>DBMS</th>\n",
       "      <th>CN</th>\n",
       "      <th>Data Science</th>\n",
       "      <th>Percentage</th>\n",
       "      <th>Department</th>\n",
       "      <th>Attendance</th>\n",
       "      <th>Gender</th>\n",
       "    </tr>\n",
       "  </thead>\n",
       "  <tbody>\n",
       "    <tr>\n",
       "      <th>0</th>\n",
       "      <td>31101</td>\n",
       "      <td>Aditya</td>\n",
       "      <td>5</td>\n",
       "      <td>91</td>\n",
       "      <td>87</td>\n",
       "      <td>90</td>\n",
       "      <td>99</td>\n",
       "      <td>77</td>\n",
       "      <td>94</td>\n",
       "      <td>Comp</td>\n",
       "      <td>80</td>\n",
       "      <td>Male</td>\n",
       "    </tr>\n",
       "    <tr>\n",
       "      <th>1</th>\n",
       "      <td>31102</td>\n",
       "      <td>Ajinkya</td>\n",
       "      <td>5</td>\n",
       "      <td>89</td>\n",
       "      <td>89</td>\n",
       "      <td>79</td>\n",
       "      <td>93</td>\n",
       "      <td>89</td>\n",
       "      <td>89</td>\n",
       "      <td>Comp</td>\n",
       "      <td>90</td>\n",
       "      <td>Male</td>\n",
       "    </tr>\n",
       "    <tr>\n",
       "      <th>2</th>\n",
       "      <td>31103</td>\n",
       "      <td>Amit</td>\n",
       "      <td>5</td>\n",
       "      <td>95</td>\n",
       "      <td>81</td>\n",
       "      <td>66</td>\n",
       "      <td>2</td>\n",
       "      <td>81</td>\n",
       "      <td>88</td>\n",
       "      <td>Comp</td>\n",
       "      <td>79</td>\n",
       "      <td>Male</td>\n",
       "    </tr>\n",
       "    <tr>\n",
       "      <th>3</th>\n",
       "      <td>31104</td>\n",
       "      <td>Chetan</td>\n",
       "      <td>5</td>\n",
       "      <td>85</td>\n",
       "      <td>96</td>\n",
       "      <td>82</td>\n",
       "      <td>86</td>\n",
       "      <td>96</td>\n",
       "      <td>87</td>\n",
       "      <td>Comp</td>\n",
       "      <td>66</td>\n",
       "      <td>Male</td>\n",
       "    </tr>\n",
       "    <tr>\n",
       "      <th>4</th>\n",
       "      <td>31105</td>\n",
       "      <td>Chaitanya</td>\n",
       "      <td>5</td>\n",
       "      <td>80</td>\n",
       "      <td>70</td>\n",
       "      <td>75</td>\n",
       "      <td>83</td>\n",
       "      <td>70</td>\n",
       "      <td>85</td>\n",
       "      <td>Comp</td>\n",
       "      <td>82</td>\n",
       "      <td>Male</td>\n",
       "    </tr>\n",
       "    <tr>\n",
       "      <th>...</th>\n",
       "      <td>...</td>\n",
       "      <td>...</td>\n",
       "      <td>...</td>\n",
       "      <td>...</td>\n",
       "      <td>...</td>\n",
       "      <td>...</td>\n",
       "      <td>...</td>\n",
       "      <td>...</td>\n",
       "      <td>...</td>\n",
       "      <td>...</td>\n",
       "      <td>...</td>\n",
       "      <td>...</td>\n",
       "    </tr>\n",
       "    <tr>\n",
       "      <th>84</th>\n",
       "      <td>31185</td>\n",
       "      <td>Kristian</td>\n",
       "      <td>5</td>\n",
       "      <td>87</td>\n",
       "      <td>67</td>\n",
       "      <td>93</td>\n",
       "      <td>86</td>\n",
       "      <td>89</td>\n",
       "      <td>90</td>\n",
       "      <td>Comp</td>\n",
       "      <td>90</td>\n",
       "      <td>Male</td>\n",
       "    </tr>\n",
       "    <tr>\n",
       "      <th>85</th>\n",
       "      <td>31186</td>\n",
       "      <td>Kelvin</td>\n",
       "      <td>5</td>\n",
       "      <td>94</td>\n",
       "      <td>77</td>\n",
       "      <td>86</td>\n",
       "      <td>83</td>\n",
       "      <td>81</td>\n",
       "      <td>95</td>\n",
       "      <td>Comp</td>\n",
       "      <td>79</td>\n",
       "      <td>Male</td>\n",
       "    </tr>\n",
       "    <tr>\n",
       "      <th>86</th>\n",
       "      <td>31187</td>\n",
       "      <td>Brooke</td>\n",
       "      <td>5</td>\n",
       "      <td>85</td>\n",
       "      <td>89</td>\n",
       "      <td>86</td>\n",
       "      <td>77</td>\n",
       "      <td>96</td>\n",
       "      <td>99</td>\n",
       "      <td>Comp</td>\n",
       "      <td>66</td>\n",
       "      <td>Female</td>\n",
       "    </tr>\n",
       "    <tr>\n",
       "      <th>87</th>\n",
       "      <td>31188</td>\n",
       "      <td>Belinda</td>\n",
       "      <td>5</td>\n",
       "      <td>80</td>\n",
       "      <td>77</td>\n",
       "      <td>83</td>\n",
       "      <td>94</td>\n",
       "      <td>70</td>\n",
       "      <td>92</td>\n",
       "      <td>Comp</td>\n",
       "      <td>78</td>\n",
       "      <td>Female</td>\n",
       "    </tr>\n",
       "    <tr>\n",
       "      <th>88</th>\n",
       "      <td>31189</td>\n",
       "      <td>Miranda</td>\n",
       "      <td>5</td>\n",
       "      <td>90</td>\n",
       "      <td>89</td>\n",
       "      <td>87</td>\n",
       "      <td>72</td>\n",
       "      <td>99</td>\n",
       "      <td>89</td>\n",
       "      <td>Comp</td>\n",
       "      <td>87</td>\n",
       "      <td>Female</td>\n",
       "    </tr>\n",
       "  </tbody>\n",
       "</table>\n",
       "<p>89 rows × 12 columns</p>\n",
       "</div>"
      ],
      "text/plain": [
       "    Roll no       Name  Subjects  DSA  OS  DBMS  CN  Data Science  Percentage  \\\n",
       "0     31101     Aditya         5   91  87    90  99            77          94   \n",
       "1     31102    Ajinkya         5   89  89    79  93            89          89   \n",
       "2     31103       Amit         5   95  81    66   2            81          88   \n",
       "3     31104     Chetan         5   85  96    82  86            96          87   \n",
       "4     31105  Chaitanya         5   80  70    75  83            70          85   \n",
       "..      ...        ...       ...  ...  ..   ...  ..           ...         ...   \n",
       "84    31185   Kristian         5   87  67    93  86            89          90   \n",
       "85    31186     Kelvin         5   94  77    86  83            81          95   \n",
       "86    31187     Brooke         5   85  89    86  77            96          99   \n",
       "87    31188    Belinda         5   80  77    83  94            70          92   \n",
       "88    31189    Miranda         5   90  89    87  72            99          89   \n",
       "\n",
       "   Department  Attendance  Gender  \n",
       "0        Comp          80    Male  \n",
       "1        Comp          90    Male  \n",
       "2        Comp          79    Male  \n",
       "3        Comp          66    Male  \n",
       "4        Comp          82    Male  \n",
       "..        ...         ...     ...  \n",
       "84       Comp          90    Male  \n",
       "85       Comp          79    Male  \n",
       "86       Comp          66  Female  \n",
       "87       Comp          78  Female  \n",
       "88       Comp          87  Female  \n",
       "\n",
       "[89 rows x 12 columns]"
      ]
     },
     "execution_count": 11,
     "metadata": {},
     "output_type": "execute_result"
    }
   ],
   "source": [
    "df1"
   ]
  },
  {
   "cell_type": "code",
   "execution_count": 12,
   "id": "43e3cf4c",
   "metadata": {},
   "outputs": [
    {
     "data": {
      "text/plain": [
       "<AxesSubplot:xlabel='CN'>"
      ]
     },
     "execution_count": 12,
     "metadata": {},
     "output_type": "execute_result"
    },
    {
     "data": {
      "image/png": "[encoded data removed]",
      "text/plain": [
       "<Figure size 640x480 with 1 Axes>"
      ]
     },
     "metadata": {},
     "output_type": "display_data"
    }
   ],
   "source": [
    "import seaborn as sn\n",
    "sn.boxplot(x=df1['CN'])"
   ]
  },
  {
   "cell_type": "code",
   "execution_count": 13,
   "id": "deb11a8b",
   "metadata": {},
   "outputs": [
    {
     "data": {
      "text/plain": [
       "<AxesSubplot:xlabel='DBMS'>"
      ]
     },
     "execution_count": 13,
     "metadata": {},
     "output_type": "execute_result"
    },
    {
     "data": {
      "image/png": "[encoded data removed]",
      "text/plain": [
       "<Figure size 640x480 with 1 Axes>"
      ]
     },
     "metadata": {},
     "output_type": "display_data"
    }
   ],
   "source": [
    "import seaborn as sn\n",
    "sn.boxplot(x=df1['DBMS'])"
   ]
  },
  {
   "cell_type": "code",
   "execution_count": 14,
   "id": "08f1d1ca",
   "metadata": {},
   "outputs": [
    {
     "data": {
      "text/plain": [
       "<AxesSubplot:xlabel='OS'>"
      ]
     },
     "execution_count": 14,
     "metadata": {},
     "output_type": "execute_result"
    },
    {
     "data": {
      "image/png": "[encoded data removed]",
      "text/plain": [
       "<Figure size 640x480 with 1 Axes>"
      ]
     },
     "metadata": {},
     "output_type": "display_data"
    }
   ],
   "source": [
    "import seaborn as sn\n",
    "sn.boxplot(x=df1['OS'])"
   ]
  },
  {
   "cell_type": "code",
   "execution_count": 15,
   "id": "faabce43",
   "metadata": {},
   "outputs": [],
   "source": [
    "from scipy import stats\n",
    "z = np.abs(stats.zscore(df1['CN']))"
   ]
  },
  {
   "cell_type": "code",
   "execution_count": 16,
   "id": "b4cbbd84",
   "metadata": {},
   "outputs": [
    {
     "data": {
      "text/plain": [
       "0     0.938935\n",
       "1     0.621599\n",
       "2     4.191334\n",
       "3     0.251373\n",
       "4     0.092705\n",
       "        ...   \n",
       "84    0.251373\n",
       "85    0.092705\n",
       "86    0.224631\n",
       "87    0.674488\n",
       "88    0.489078\n",
       "Name: CN, Length: 89, dtype: float64"
      ]
     },
     "execution_count": 16,
     "metadata": {},
     "output_type": "execute_result"
    }
   ],
   "source": [
    "z"
   ]
  },
  {
   "cell_type": "code",
   "execution_count": 17,
   "id": "c24b2dbf",
   "metadata": {},
   "outputs": [
    {
     "data": {
      "text/plain": [
       "array([ 2,  8, 20, 30], dtype=int64)"
      ]
     },
     "execution_count": 17,
     "metadata": {},
     "output_type": "execute_result"
    }
   ],
   "source": [
    "arr = np.where(z>2)\n",
    "arr[0]"
   ]
  },
  {
   "cell_type": "code",
   "execution_count": 18,
   "id": "4373ad5d",
   "metadata": {},
   "outputs": [
    {
     "data": {
      "text/plain": [
       "[2, 8, 20, 30]"
      ]
     },
     "execution_count": 18,
     "metadata": {},
     "output_type": "execute_result"
    }
   ],
   "source": [
    "li = arr[0].tolist()\n",
    "li"
   ]
  },
  {
   "cell_type": "code",
   "execution_count": 19,
   "id": "556da271",
   "metadata": {},
   "outputs": [],
   "source": [
    "for i in li:\n",
    "    df1=df1.drop(df1.index[i])"
   ]
  },
  {
   "cell_type": "code",
   "execution_count": 20,
   "id": "805ad3a9",
   "metadata": {},
   "outputs": [
    {
     "data": {
      "text/plain": [
       "(85, 12)"
      ]
     },
     "execution_count": 20,
     "metadata": {},
     "output_type": "execute_result"
    }
   ],
   "source": [
    "df1.shape"
   ]
  },
  {
   "cell_type": "code",
   "execution_count": 21,
   "id": "13c7d540",
   "metadata": {},
   "outputs": [],
   "source": [
    "from sklearn.preprocessing import MinMaxScaler\n",
    "\n",
    "scaler = MinMaxScaler(feature_range=(0,10))\n",
    "df1[['Percentage']] = scaler.fit_transform(df1[['Percentage']])\n",
    "df1['Percentage'] = df1['Percentage'].round(1)"
   ]
  },
  {
   "cell_type": "code",
   "execution_count": 22,
   "id": "aefd4cc1",
   "metadata": {},
   "outputs": [
    {
     "data": {
      "text/html": [
       "<div>\n",
       "<style scoped>\n",
       "    .dataframe tbody tr th:only-of-type {\n",
       "        vertical-align: middle;\n",
       "    }\n",
       "\n",
       "    .dataframe tbody tr th {\n",
       "        vertical-align: top;\n",
       "    }\n",
       "\n",
       "    .dataframe thead th {\n",
       "        text-align: right;\n",
       "    }\n",
       "</style>\n",
       "<table border=\"1\" class=\"dataframe\">\n",
       "  <thead>\n",
       "    <tr style=\"text-align: right;\">\n",
       "      <th></th>\n",
       "      <th>Roll no</th>\n",
       "      <th>Name</th>\n",
       "      <th>Subjects</th>\n",
       "      <th>DSA</th>\n",
       "      <th>OS</th>\n",
       "      <th>DBMS</th>\n",
       "      <th>CN</th>\n",
       "      <th>Data Science</th>\n",
       "      <th>Percentage</th>\n",
       "      <th>Department</th>\n",
       "      <th>Attendance</th>\n",
       "      <th>Gender</th>\n",
       "    </tr>\n",
       "  </thead>\n",
       "  <tbody>\n",
       "    <tr>\n",
       "      <th>0</th>\n",
       "      <td>31101</td>\n",
       "      <td>Aditya</td>\n",
       "      <td>5</td>\n",
       "      <td>91</td>\n",
       "      <td>87</td>\n",
       "      <td>90</td>\n",
       "      <td>99</td>\n",
       "      <td>77</td>\n",
       "      <td>7.4</td>\n",
       "      <td>Comp</td>\n",
       "      <td>80</td>\n",
       "      <td>Male</td>\n",
       "    </tr>\n",
       "    <tr>\n",
       "      <th>1</th>\n",
       "      <td>31102</td>\n",
       "      <td>Ajinkya</td>\n",
       "      <td>5</td>\n",
       "      <td>89</td>\n",
       "      <td>89</td>\n",
       "      <td>79</td>\n",
       "      <td>93</td>\n",
       "      <td>89</td>\n",
       "      <td>4.7</td>\n",
       "      <td>Comp</td>\n",
       "      <td>90</td>\n",
       "      <td>Male</td>\n",
       "    </tr>\n",
       "    <tr>\n",
       "      <th>3</th>\n",
       "      <td>31104</td>\n",
       "      <td>Chetan</td>\n",
       "      <td>5</td>\n",
       "      <td>85</td>\n",
       "      <td>96</td>\n",
       "      <td>82</td>\n",
       "      <td>86</td>\n",
       "      <td>96</td>\n",
       "      <td>3.7</td>\n",
       "      <td>Comp</td>\n",
       "      <td>66</td>\n",
       "      <td>Male</td>\n",
       "    </tr>\n",
       "    <tr>\n",
       "      <th>4</th>\n",
       "      <td>31105</td>\n",
       "      <td>Chaitanya</td>\n",
       "      <td>5</td>\n",
       "      <td>80</td>\n",
       "      <td>70</td>\n",
       "      <td>75</td>\n",
       "      <td>83</td>\n",
       "      <td>70</td>\n",
       "      <td>2.6</td>\n",
       "      <td>Comp</td>\n",
       "      <td>82</td>\n",
       "      <td>Male</td>\n",
       "    </tr>\n",
       "    <tr>\n",
       "      <th>5</th>\n",
       "      <td>31106</td>\n",
       "      <td>David</td>\n",
       "      <td>5</td>\n",
       "      <td>87</td>\n",
       "      <td>99</td>\n",
       "      <td>99</td>\n",
       "      <td>87</td>\n",
       "      <td>84</td>\n",
       "      <td>5.8</td>\n",
       "      <td>Comp</td>\n",
       "      <td>75</td>\n",
       "      <td>Male</td>\n",
       "    </tr>\n",
       "    <tr>\n",
       "      <th>...</th>\n",
       "      <td>...</td>\n",
       "      <td>...</td>\n",
       "      <td>...</td>\n",
       "      <td>...</td>\n",
       "      <td>...</td>\n",
       "      <td>...</td>\n",
       "      <td>...</td>\n",
       "      <td>...</td>\n",
       "      <td>...</td>\n",
       "      <td>...</td>\n",
       "      <td>...</td>\n",
       "      <td>...</td>\n",
       "    </tr>\n",
       "    <tr>\n",
       "      <th>84</th>\n",
       "      <td>31185</td>\n",
       "      <td>Kristian</td>\n",
       "      <td>5</td>\n",
       "      <td>87</td>\n",
       "      <td>67</td>\n",
       "      <td>93</td>\n",
       "      <td>86</td>\n",
       "      <td>89</td>\n",
       "      <td>5.3</td>\n",
       "      <td>Comp</td>\n",
       "      <td>90</td>\n",
       "      <td>Male</td>\n",
       "    </tr>\n",
       "    <tr>\n",
       "      <th>85</th>\n",
       "      <td>31186</td>\n",
       "      <td>Kelvin</td>\n",
       "      <td>5</td>\n",
       "      <td>94</td>\n",
       "      <td>77</td>\n",
       "      <td>86</td>\n",
       "      <td>83</td>\n",
       "      <td>81</td>\n",
       "      <td>7.9</td>\n",
       "      <td>Comp</td>\n",
       "      <td>79</td>\n",
       "      <td>Male</td>\n",
       "    </tr>\n",
       "    <tr>\n",
       "      <th>86</th>\n",
       "      <td>31187</td>\n",
       "      <td>Brooke</td>\n",
       "      <td>5</td>\n",
       "      <td>85</td>\n",
       "      <td>89</td>\n",
       "      <td>86</td>\n",
       "      <td>77</td>\n",
       "      <td>96</td>\n",
       "      <td>10.0</td>\n",
       "      <td>Comp</td>\n",
       "      <td>66</td>\n",
       "      <td>Female</td>\n",
       "    </tr>\n",
       "    <tr>\n",
       "      <th>87</th>\n",
       "      <td>31188</td>\n",
       "      <td>Belinda</td>\n",
       "      <td>5</td>\n",
       "      <td>80</td>\n",
       "      <td>77</td>\n",
       "      <td>83</td>\n",
       "      <td>94</td>\n",
       "      <td>70</td>\n",
       "      <td>6.3</td>\n",
       "      <td>Comp</td>\n",
       "      <td>78</td>\n",
       "      <td>Female</td>\n",
       "    </tr>\n",
       "    <tr>\n",
       "      <th>88</th>\n",
       "      <td>31189</td>\n",
       "      <td>Miranda</td>\n",
       "      <td>5</td>\n",
       "      <td>90</td>\n",
       "      <td>89</td>\n",
       "      <td>87</td>\n",
       "      <td>72</td>\n",
       "      <td>99</td>\n",
       "      <td>4.7</td>\n",
       "      <td>Comp</td>\n",
       "      <td>87</td>\n",
       "      <td>Female</td>\n",
       "    </tr>\n",
       "  </tbody>\n",
       "</table>\n",
       "<p>85 rows × 12 columns</p>\n",
       "</div>"
      ],
      "text/plain": [
       "    Roll no       Name  Subjects  DSA  OS  DBMS  CN  Data Science  Percentage  \\\n",
       "0     31101     Aditya         5   91  87    90  99            77         7.4   \n",
       "1     31102    Ajinkya         5   89  89    79  93            89         4.7   \n",
       "3     31104     Chetan         5   85  96    82  86            96         3.7   \n",
       "4     31105  Chaitanya         5   80  70    75  83            70         2.6   \n",
       "5     31106      David         5   87  99    99  87            84         5.8   \n",
       "..      ...        ...       ...  ...  ..   ...  ..           ...         ...   \n",
       "84    31185   Kristian         5   87  67    93  86            89         5.3   \n",
       "85    31186     Kelvin         5   94  77    86  83            81         7.9   \n",
       "86    31187     Brooke         5   85  89    86  77            96        10.0   \n",
       "87    31188    Belinda         5   80  77    83  94            70         6.3   \n",
       "88    31189    Miranda         5   90  89    87  72            99         4.7   \n",
       "\n",
       "   Department  Attendance  Gender  \n",
       "0        Comp          80    Male  \n",
       "1        Comp          90    Male  \n",
       "3        Comp          66    Male  \n",
       "4        Comp          82    Male  \n",
       "5        Comp          75    Male  \n",
       "..        ...         ...     ...  \n",
       "84       Comp          90    Male  \n",
       "85       Comp          79    Male  \n",
       "86       Comp          66  Female  \n",
       "87       Comp          78  Female  \n",
       "88       Comp          87  Female  \n",
       "\n",
       "[85 rows x 12 columns]"
      ]
     },
     "execution_count": 22,
     "metadata": {},
     "output_type": "execute_result"
    }
   ],
   "source": [
    "df1"
   ]
  },
  {
   "cell_type": "code",
   "execution_count": null,
   "id": "7097db73",
   "metadata": {},
   "outputs": [],
   "source": []
  }
 ],
 "metadata": {
  "kernelspec": {
   "display_name": "Python 3 (ipykernel)",
   "language": "python",
   "name": "python3"
  },
  "language_info": {
   "codemirror_mode": {
    "name": "ipython",
    "version": 3
   },
   "file_extension": ".py",
   "mimetype": "text/x-python",
   "name": "python",
   "nbconvert_exporter": "python",
   "pygments_lexer": "ipython3",
   "version": "3.9.13"
  }
 },
 "nbformat": 4,
 "nbformat_minor": 5
}
